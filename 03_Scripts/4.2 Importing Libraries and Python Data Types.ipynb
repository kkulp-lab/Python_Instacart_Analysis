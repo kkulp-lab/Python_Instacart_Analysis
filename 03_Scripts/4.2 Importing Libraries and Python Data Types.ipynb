{
 "cells": [
  {
   "cell_type": "markdown",
   "id": "c2562e94",
   "metadata": {},
   "source": [
    "## Table of Contents\n",
    "\n",
    "1. Import libraries\n",
    "2. Explore Data Types"
   ]
  },
  {
   "cell_type": "markdown",
   "id": "ec9278f1",
   "metadata": {},
   "source": [
    "#### 01. Importing Libraries"
   ]
  },
  {
   "cell_type": "code",
   "execution_count": 1,
   "id": "f1facbd2",
   "metadata": {},
   "outputs": [],
   "source": [
    "# Import Libraries\n",
    "import pandas as pd\n",
    "import numpy as np\n",
    "import os"
   ]
  },
  {
   "cell_type": "markdown",
   "id": "060df2e7",
   "metadata": {},
   "source": [
    "#### 02. Data Types"
   ]
  },
  {
   "cell_type": "code",
   "execution_count": 18,
   "id": "b618fe07",
   "metadata": {},
   "outputs": [],
   "source": [
    "x = 20\n",
    "y = 120\n",
    "z = 5"
   ]
  },
  {
   "cell_type": "code",
   "execution_count": 19,
   "id": "8aa89fae",
   "metadata": {},
   "outputs": [
    {
     "data": {
      "text/plain": [
       "100"
      ]
     },
     "execution_count": 19,
     "metadata": {},
     "output_type": "execute_result"
    }
   ],
   "source": [
    "# reaching 100 (01)\n",
    "\n",
    "x*z"
   ]
  },
  {
   "cell_type": "code",
   "execution_count": 20,
   "id": "5f38512f",
   "metadata": {},
   "outputs": [
    {
     "data": {
      "text/plain": [
       "100"
      ]
     },
     "execution_count": 20,
     "metadata": {},
     "output_type": "execute_result"
    }
   ],
   "source": [
    "# reaching 100 (02)\n",
    "\n",
    "y - x"
   ]
  },
  {
   "cell_type": "code",
   "execution_count": 21,
   "id": "4cdae69a",
   "metadata": {},
   "outputs": [
    {
     "data": {
      "text/plain": [
       "100"
      ]
     },
     "execution_count": 21,
     "metadata": {},
     "output_type": "execute_result"
    }
   ],
   "source": [
    "# reaching 100 (03)\n",
    "\n",
    "y + (-x)"
   ]
  },
  {
   "cell_type": "code",
   "execution_count": 25,
   "id": "56231bf4",
   "metadata": {},
   "outputs": [],
   "source": [
    "# code 2 float variables\n",
    "flx = 1.23\n",
    "fly = 2.5444444444"
   ]
  },
  {
   "cell_type": "code",
   "execution_count": 26,
   "id": "1e769e84",
   "metadata": {},
   "outputs": [
    {
     "data": {
      "text/plain": [
       "0.4834061135455617"
      ]
     },
     "execution_count": 26,
     "metadata": {},
     "output_type": "execute_result"
    }
   ],
   "source": [
    "flx/fly"
   ]
  },
  {
   "cell_type": "code",
   "execution_count": 27,
   "id": "f4e9187d",
   "metadata": {},
   "outputs": [],
   "source": [
    "# construct a short word of strings\n",
    "\n",
    "a = 'con'\n",
    "b = 'str'\n",
    "c = 'uct'"
   ]
  },
  {
   "cell_type": "code",
   "execution_count": 28,
   "id": "73cb5500",
   "metadata": {},
   "outputs": [
    {
     "data": {
      "text/plain": [
       "'construct'"
      ]
     },
     "execution_count": 28,
     "metadata": {},
     "output_type": "execute_result"
    }
   ],
   "source": [
    "a+b+c"
   ]
  },
  {
   "cell_type": "code",
   "execution_count": 29,
   "id": "68ac5fe1",
   "metadata": {},
   "outputs": [],
   "source": [
    "# construct 2 short sentences made of separate strings\n",
    "\n",
    "i = 2\n",
    "sp = ' '\n",
    "d = 'short sentences'\n",
    "p = '.'\n",
    "e = 'made of'\n",
    "f = 'separate strings'"
   ]
  },
  {
   "cell_type": "code",
   "execution_count": 35,
   "id": "67616092",
   "metadata": {},
   "outputs": [
    {
     "data": {
      "text/plain": [
       "'construct 2 short sentences. made of separate strings'"
      ]
     },
     "execution_count": 35,
     "metadata": {},
     "output_type": "execute_result"
    }
   ],
   "source": [
    "a+b+c+sp+str(i)+sp+d+p+sp+e+sp+f"
   ]
  },
  {
   "cell_type": "code",
   "execution_count": 36,
   "id": "ea0bdc26",
   "metadata": {},
   "outputs": [
    {
     "data": {
      "text/plain": [
       "'short sentencesshort sentencesshort sentencesshort sentencesshort sentencesshort sentencesshort sentencesshort sentencesshort sentencesshort sentencesshort sentencesshort sentencesshort sentencesshort sentencesshort sentencesshort sentencesshort sentencesshort sentencesshort sentencesshort sentencesshort sentencesshort sentencesshort sentencesshort sentencesshort sentencesshort sentencesshort sentencesshort sentencesshort sentencesshort sentencesshort sentencesshort sentencesshort sentencesshort sentencesshort sentencesshort sentencesshort sentencesshort sentencesshort sentencesshort sentencesshort sentencesshort sentencesshort sentencesshort sentencesshort sentencesshort sentencesshort sentencesshort sentencesshort sentencesshort sentencesshort sentencesshort sentencesshort sentencesshort sentencesshort sentencesshort sentencesshort sentencesshort sentencesshort sentencesshort sentencesshort sentencesshort sentencesshort sentencesshort sentencesshort sentencesshort sentencesshort sentencesshort sentencesshort sentencesshort sentencesshort sentencesshort sentencesshort sentencesshort sentencesshort sentencesshort sentencesshort sentencesshort sentencesshort sentencesshort sentencesshort sentencesshort sentencesshort sentencesshort sentencesshort sentencesshort sentencesshort sentencesshort sentencesshort sentencesshort sentencesshort sentencesshort sentencesshort sentencesshort sentencesshort sentencesshort sentencesshort sentencesshort sentencesshort sentencesshort sentences'"
      ]
     },
     "execution_count": 36,
     "metadata": {},
     "output_type": "execute_result"
    }
   ],
   "source": [
    "# Bonus Task\n",
    "\n",
    "d*100"
   ]
  },
  {
   "cell_type": "code",
   "execution_count": null,
   "id": "e029df0c",
   "metadata": {},
   "outputs": [],
   "source": []
  }
 ],
 "metadata": {
  "kernelspec": {
   "display_name": "Python 3 (ipykernel)",
   "language": "python",
   "name": "python3"
  },
  "language_info": {
   "codemirror_mode": {
    "name": "ipython",
    "version": 3
   },
   "file_extension": ".py",
   "mimetype": "text/x-python",
   "name": "python",
   "nbconvert_exporter": "python",
   "pygments_lexer": "ipython3",
   "version": "3.10.9"
  }
 },
 "nbformat": 4,
 "nbformat_minor": 5
}
