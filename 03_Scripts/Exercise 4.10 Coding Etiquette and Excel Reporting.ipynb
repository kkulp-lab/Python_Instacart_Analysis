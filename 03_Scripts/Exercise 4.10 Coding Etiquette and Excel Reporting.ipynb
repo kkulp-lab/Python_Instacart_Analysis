{
 "cells": [
  {
   "cell_type": "markdown",
   "id": "fea47ba5",
   "metadata": {},
   "source": [
    "# Table of Contents\n",
    "\n",
    "1. Address PII data\n",
    "2. Categorize states into regions (loc)\n",
    "3. Crosstab spending by regions\n",
    "4. Drop all data for users under 5 max orders\n",
    "5. Make profiles based on\n",
    "    a. Age Group   \n",
    "    b. Income Group   \n",
    "    c. Product Group   \n",
    "    d. Family Group   \n",
    "    e. Hour Group  \n",
    "6. Make Visualizations for each group\n",
    "7. Aggregate basis stats for each group\n",
    "8. Compare groups demographics across regions\n"
   ]
  },
  {
   "cell_type": "markdown",
   "id": "65522b4a",
   "metadata": {},
   "source": [
    "# Step 1:\n",
    "\n",
    "Import the data set you exported in Exercise 4.9 into a new Jupyter notebook. This should be the merged version of your data that contains the new customers column."
   ]
  },
  {
   "cell_type": "code",
   "execution_count": 3,
   "id": "e6e3a48b",
   "metadata": {},
   "outputs": [],
   "source": [
    "# import libraries\n",
    "\n",
    "import pandas as pd\n",
    "import numpy as np\n",
    "import os\n",
    "import matplotlib.pyplot as plt\n",
    "import seaborn as sns\n",
    "import scipy"
   ]
  },
  {
   "cell_type": "code",
   "execution_count": 4,
   "id": "2c548b3b",
   "metadata": {},
   "outputs": [],
   "source": [
    "# set path variable\n",
    "\n",
    "path = r'C:\\Users\\Jenna\\Desktop\\Data Course\\Part4_Instacart_analysis\\02_Data'"
   ]
  },
  {
   "cell_type": "code",
   "execution_count": 5,
   "id": "ee4a34ec",
   "metadata": {},
   "outputs": [],
   "source": [
    "# set chart path variable\n",
    "\n",
    "path2 =r'C:\\Users\\Jenna\\Desktop\\Data Course\\Part4_Instacart_analysis\\04_Analysis\\Visualizations'"
   ]
  },
  {
   "cell_type": "code",
   "execution_count": 3,
   "id": "0da8b531",
   "metadata": {},
   "outputs": [],
   "source": [
    "# import the datframe\n",
    "\n",
    "df = pd.read_pickle(os.path.join(path, 'Prepared_Data', 'customer_merged.pkl' ))"
   ]
  },
  {
   "cell_type": "markdown",
   "id": "babd3d04",
   "metadata": {},
   "source": [
    "# Step 2:\n",
    "\n",
    "Consider any security implications that might exist for this new data. You’ll need to address any PII data in the data before continuing your analysis."
   ]
  },
  {
   "cell_type": "code",
   "execution_count": 4,
   "id": "7ceb2047",
   "metadata": {},
   "outputs": [
    {
     "data": {
      "text/html": [
       "<div>\n",
       "<style scoped>\n",
       "    .dataframe tbody tr th:only-of-type {\n",
       "        vertical-align: middle;\n",
       "    }\n",
       "\n",
       "    .dataframe tbody tr th {\n",
       "        vertical-align: top;\n",
       "    }\n",
       "\n",
       "    .dataframe thead th {\n",
       "        text-align: right;\n",
       "    }\n",
       "</style>\n",
       "<table border=\"1\" class=\"dataframe\">\n",
       "  <thead>\n",
       "    <tr style=\"text-align: right;\">\n",
       "      <th></th>\n",
       "      <th>order_id</th>\n",
       "      <th>user_id</th>\n",
       "      <th>user_order_number</th>\n",
       "      <th>orders_day_of_week</th>\n",
       "      <th>order_hour_of_day</th>\n",
       "      <th>days_since_prior_order</th>\n",
       "      <th>product_id</th>\n",
       "      <th>add_to_cart_order</th>\n",
       "      <th>reordered</th>\n",
       "      <th>product_name</th>\n",
       "      <th>aisle_id</th>\n",
       "      <th>department_id</th>\n",
       "      <th>prices</th>\n",
       "      <th>price_range_loc</th>\n",
       "      <th>busiest_day</th>\n",
       "      <th>busiest_days</th>\n",
       "      <th>busiest_period_of_day</th>\n",
       "      <th>max_order</th>\n",
       "      <th>loyalty_flag</th>\n",
       "      <th>average_order</th>\n",
       "      <th>spending_flag</th>\n",
       "      <th>order_freq</th>\n",
       "      <th>freq_flag</th>\n",
       "      <th>First Name</th>\n",
       "      <th>Last Name</th>\n",
       "      <th>Gender</th>\n",
       "      <th>STATE</th>\n",
       "      <th>Age</th>\n",
       "      <th>date_joined</th>\n",
       "      <th>Number_of_Dependants</th>\n",
       "      <th>fam_status</th>\n",
       "      <th>income</th>\n",
       "      <th>True</th>\n",
       "      <th>age</th>\n",
       "      <th>n_dependants</th>\n",
       "    </tr>\n",
       "  </thead>\n",
       "  <tbody>\n",
       "    <tr>\n",
       "      <th>0</th>\n",
       "      <td>2539329</td>\n",
       "      <td>1</td>\n",
       "      <td>1</td>\n",
       "      <td>2</td>\n",
       "      <td>8</td>\n",
       "      <td>NaN</td>\n",
       "      <td>196</td>\n",
       "      <td>1</td>\n",
       "      <td>0</td>\n",
       "      <td>Soda</td>\n",
       "      <td>77</td>\n",
       "      <td>7</td>\n",
       "      <td>9.0</td>\n",
       "      <td>Mid range product</td>\n",
       "      <td>Regularly Busy</td>\n",
       "      <td>Regularly Busy</td>\n",
       "      <td>Average Orders</td>\n",
       "      <td>10</td>\n",
       "      <td>New Customer</td>\n",
       "      <td>6.367797</td>\n",
       "      <td>Low Spender</td>\n",
       "      <td>20.5</td>\n",
       "      <td>Non-frequent Customer</td>\n",
       "      <td>Linda</td>\n",
       "      <td>Nguyen</td>\n",
       "      <td>Female</td>\n",
       "      <td>Alabama</td>\n",
       "      <td>31</td>\n",
       "      <td>2/17/2019</td>\n",
       "      <td>3</td>\n",
       "      <td>married</td>\n",
       "      <td>40423</td>\n",
       "      <td>both</td>\n",
       "      <td>31</td>\n",
       "      <td>3</td>\n",
       "    </tr>\n",
       "    <tr>\n",
       "      <th>1</th>\n",
       "      <td>2398795</td>\n",
       "      <td>1</td>\n",
       "      <td>2</td>\n",
       "      <td>3</td>\n",
       "      <td>7</td>\n",
       "      <td>15.0</td>\n",
       "      <td>196</td>\n",
       "      <td>1</td>\n",
       "      <td>1</td>\n",
       "      <td>Soda</td>\n",
       "      <td>77</td>\n",
       "      <td>7</td>\n",
       "      <td>9.0</td>\n",
       "      <td>Mid range product</td>\n",
       "      <td>Regularly Busy</td>\n",
       "      <td>Slowest days</td>\n",
       "      <td>Average Orders</td>\n",
       "      <td>10</td>\n",
       "      <td>New Customer</td>\n",
       "      <td>6.367797</td>\n",
       "      <td>Low Spender</td>\n",
       "      <td>20.5</td>\n",
       "      <td>Non-frequent Customer</td>\n",
       "      <td>Linda</td>\n",
       "      <td>Nguyen</td>\n",
       "      <td>Female</td>\n",
       "      <td>Alabama</td>\n",
       "      <td>31</td>\n",
       "      <td>2/17/2019</td>\n",
       "      <td>3</td>\n",
       "      <td>married</td>\n",
       "      <td>40423</td>\n",
       "      <td>both</td>\n",
       "      <td>31</td>\n",
       "      <td>3</td>\n",
       "    </tr>\n",
       "    <tr>\n",
       "      <th>2</th>\n",
       "      <td>473747</td>\n",
       "      <td>1</td>\n",
       "      <td>3</td>\n",
       "      <td>3</td>\n",
       "      <td>12</td>\n",
       "      <td>21.0</td>\n",
       "      <td>196</td>\n",
       "      <td>1</td>\n",
       "      <td>1</td>\n",
       "      <td>Soda</td>\n",
       "      <td>77</td>\n",
       "      <td>7</td>\n",
       "      <td>9.0</td>\n",
       "      <td>Mid range product</td>\n",
       "      <td>Regularly Busy</td>\n",
       "      <td>Slowest days</td>\n",
       "      <td>Most Orders</td>\n",
       "      <td>10</td>\n",
       "      <td>New Customer</td>\n",
       "      <td>6.367797</td>\n",
       "      <td>Low Spender</td>\n",
       "      <td>20.5</td>\n",
       "      <td>Non-frequent Customer</td>\n",
       "      <td>Linda</td>\n",
       "      <td>Nguyen</td>\n",
       "      <td>Female</td>\n",
       "      <td>Alabama</td>\n",
       "      <td>31</td>\n",
       "      <td>2/17/2019</td>\n",
       "      <td>3</td>\n",
       "      <td>married</td>\n",
       "      <td>40423</td>\n",
       "      <td>both</td>\n",
       "      <td>31</td>\n",
       "      <td>3</td>\n",
       "    </tr>\n",
       "    <tr>\n",
       "      <th>3</th>\n",
       "      <td>2254736</td>\n",
       "      <td>1</td>\n",
       "      <td>4</td>\n",
       "      <td>4</td>\n",
       "      <td>7</td>\n",
       "      <td>29.0</td>\n",
       "      <td>196</td>\n",
       "      <td>1</td>\n",
       "      <td>1</td>\n",
       "      <td>Soda</td>\n",
       "      <td>77</td>\n",
       "      <td>7</td>\n",
       "      <td>9.0</td>\n",
       "      <td>Mid range product</td>\n",
       "      <td>Least Busy</td>\n",
       "      <td>Slowest days</td>\n",
       "      <td>Average Orders</td>\n",
       "      <td>10</td>\n",
       "      <td>New Customer</td>\n",
       "      <td>6.367797</td>\n",
       "      <td>Low Spender</td>\n",
       "      <td>20.5</td>\n",
       "      <td>Non-frequent Customer</td>\n",
       "      <td>Linda</td>\n",
       "      <td>Nguyen</td>\n",
       "      <td>Female</td>\n",
       "      <td>Alabama</td>\n",
       "      <td>31</td>\n",
       "      <td>2/17/2019</td>\n",
       "      <td>3</td>\n",
       "      <td>married</td>\n",
       "      <td>40423</td>\n",
       "      <td>both</td>\n",
       "      <td>31</td>\n",
       "      <td>3</td>\n",
       "    </tr>\n",
       "    <tr>\n",
       "      <th>4</th>\n",
       "      <td>431534</td>\n",
       "      <td>1</td>\n",
       "      <td>5</td>\n",
       "      <td>4</td>\n",
       "      <td>15</td>\n",
       "      <td>28.0</td>\n",
       "      <td>196</td>\n",
       "      <td>1</td>\n",
       "      <td>1</td>\n",
       "      <td>Soda</td>\n",
       "      <td>77</td>\n",
       "      <td>7</td>\n",
       "      <td>9.0</td>\n",
       "      <td>Mid range product</td>\n",
       "      <td>Least Busy</td>\n",
       "      <td>Slowest days</td>\n",
       "      <td>Most Orders</td>\n",
       "      <td>10</td>\n",
       "      <td>New Customer</td>\n",
       "      <td>6.367797</td>\n",
       "      <td>Low Spender</td>\n",
       "      <td>20.5</td>\n",
       "      <td>Non-frequent Customer</td>\n",
       "      <td>Linda</td>\n",
       "      <td>Nguyen</td>\n",
       "      <td>Female</td>\n",
       "      <td>Alabama</td>\n",
       "      <td>31</td>\n",
       "      <td>2/17/2019</td>\n",
       "      <td>3</td>\n",
       "      <td>married</td>\n",
       "      <td>40423</td>\n",
       "      <td>both</td>\n",
       "      <td>31</td>\n",
       "      <td>3</td>\n",
       "    </tr>\n",
       "  </tbody>\n",
       "</table>\n",
       "</div>"
      ],
      "text/plain": [
       "   order_id user_id  user_order_number  orders_day_of_week  order_hour_of_day  \\\n",
       "0   2539329       1                  1                   2                  8   \n",
       "1   2398795       1                  2                   3                  7   \n",
       "2    473747       1                  3                   3                 12   \n",
       "3   2254736       1                  4                   4                  7   \n",
       "4    431534       1                  5                   4                 15   \n",
       "\n",
       "   days_since_prior_order  product_id  add_to_cart_order  reordered  \\\n",
       "0                     NaN         196                  1          0   \n",
       "1                    15.0         196                  1          1   \n",
       "2                    21.0         196                  1          1   \n",
       "3                    29.0         196                  1          1   \n",
       "4                    28.0         196                  1          1   \n",
       "\n",
       "  product_name  aisle_id  department_id  prices    price_range_loc  \\\n",
       "0         Soda        77              7     9.0  Mid range product   \n",
       "1         Soda        77              7     9.0  Mid range product   \n",
       "2         Soda        77              7     9.0  Mid range product   \n",
       "3         Soda        77              7     9.0  Mid range product   \n",
       "4         Soda        77              7     9.0  Mid range product   \n",
       "\n",
       "      busiest_day    busiest_days busiest_period_of_day  max_order  \\\n",
       "0  Regularly Busy  Regularly Busy        Average Orders         10   \n",
       "1  Regularly Busy    Slowest days        Average Orders         10   \n",
       "2  Regularly Busy    Slowest days           Most Orders         10   \n",
       "3      Least Busy    Slowest days        Average Orders         10   \n",
       "4      Least Busy    Slowest days           Most Orders         10   \n",
       "\n",
       "   loyalty_flag  average_order spending_flag  order_freq  \\\n",
       "0  New Customer       6.367797   Low Spender        20.5   \n",
       "1  New Customer       6.367797   Low Spender        20.5   \n",
       "2  New Customer       6.367797   Low Spender        20.5   \n",
       "3  New Customer       6.367797   Low Spender        20.5   \n",
       "4  New Customer       6.367797   Low Spender        20.5   \n",
       "\n",
       "               freq_flag First Name Last Name  Gender    STATE  Age  \\\n",
       "0  Non-frequent Customer      Linda    Nguyen  Female  Alabama   31   \n",
       "1  Non-frequent Customer      Linda    Nguyen  Female  Alabama   31   \n",
       "2  Non-frequent Customer      Linda    Nguyen  Female  Alabama   31   \n",
       "3  Non-frequent Customer      Linda    Nguyen  Female  Alabama   31   \n",
       "4  Non-frequent Customer      Linda    Nguyen  Female  Alabama   31   \n",
       "\n",
       "  date_joined  Number_of_Dependants fam_status  income  True  age  \\\n",
       "0   2/17/2019                     3    married   40423  both   31   \n",
       "1   2/17/2019                     3    married   40423  both   31   \n",
       "2   2/17/2019                     3    married   40423  both   31   \n",
       "3   2/17/2019                     3    married   40423  both   31   \n",
       "4   2/17/2019                     3    married   40423  both   31   \n",
       "\n",
       "   n_dependants  \n",
       "0             3  \n",
       "1             3  \n",
       "2             3  \n",
       "3             3  \n",
       "4             3  "
      ]
     },
     "execution_count": 4,
     "metadata": {},
     "output_type": "execute_result"
    }
   ],
   "source": [
    "# check the dataframe for data that may be personally identifiable information\n",
    "\n",
    "pd.options.display.max_columns = None\n",
    "\n",
    "df.head()"
   ]
  },
  {
   "cell_type": "markdown",
   "id": "0d2842f4",
   "metadata": {},
   "source": [
    "## Step 2: The first and last name columns do not add anything to the analysis and are PII so they can be dropped"
   ]
  },
  {
   "cell_type": "code",
   "execution_count": 5,
   "id": "65edfa4c",
   "metadata": {
    "scrolled": true
   },
   "outputs": [
    {
     "data": {
      "text/html": [
       "<div>\n",
       "<style scoped>\n",
       "    .dataframe tbody tr th:only-of-type {\n",
       "        vertical-align: middle;\n",
       "    }\n",
       "\n",
       "    .dataframe tbody tr th {\n",
       "        vertical-align: top;\n",
       "    }\n",
       "\n",
       "    .dataframe thead th {\n",
       "        text-align: right;\n",
       "    }\n",
       "</style>\n",
       "<table border=\"1\" class=\"dataframe\">\n",
       "  <thead>\n",
       "    <tr style=\"text-align: right;\">\n",
       "      <th></th>\n",
       "      <th>order_id</th>\n",
       "      <th>user_id</th>\n",
       "      <th>user_order_number</th>\n",
       "      <th>orders_day_of_week</th>\n",
       "      <th>order_hour_of_day</th>\n",
       "      <th>days_since_prior_order</th>\n",
       "      <th>product_id</th>\n",
       "      <th>add_to_cart_order</th>\n",
       "      <th>reordered</th>\n",
       "      <th>product_name</th>\n",
       "      <th>aisle_id</th>\n",
       "      <th>department_id</th>\n",
       "      <th>prices</th>\n",
       "      <th>price_range_loc</th>\n",
       "      <th>busiest_day</th>\n",
       "      <th>busiest_days</th>\n",
       "      <th>busiest_period_of_day</th>\n",
       "      <th>max_order</th>\n",
       "      <th>loyalty_flag</th>\n",
       "      <th>average_order</th>\n",
       "      <th>spending_flag</th>\n",
       "      <th>order_freq</th>\n",
       "      <th>freq_flag</th>\n",
       "      <th>Gender</th>\n",
       "      <th>STATE</th>\n",
       "      <th>Age</th>\n",
       "      <th>date_joined</th>\n",
       "      <th>Number_of_Dependants</th>\n",
       "      <th>fam_status</th>\n",
       "      <th>income</th>\n",
       "      <th>True</th>\n",
       "    </tr>\n",
       "  </thead>\n",
       "  <tbody>\n",
       "    <tr>\n",
       "      <th>0</th>\n",
       "      <td>2539329</td>\n",
       "      <td>1</td>\n",
       "      <td>1</td>\n",
       "      <td>2</td>\n",
       "      <td>8</td>\n",
       "      <td>NaN</td>\n",
       "      <td>196</td>\n",
       "      <td>1</td>\n",
       "      <td>0</td>\n",
       "      <td>Soda</td>\n",
       "      <td>77</td>\n",
       "      <td>7</td>\n",
       "      <td>9.000000</td>\n",
       "      <td>Mid range product</td>\n",
       "      <td>Regularly Busy</td>\n",
       "      <td>Regularly Busy</td>\n",
       "      <td>Average Orders</td>\n",
       "      <td>10</td>\n",
       "      <td>New Customer</td>\n",
       "      <td>6.367797</td>\n",
       "      <td>Low Spender</td>\n",
       "      <td>20.5</td>\n",
       "      <td>Non-frequent Customer</td>\n",
       "      <td>Female</td>\n",
       "      <td>Alabama</td>\n",
       "      <td>31</td>\n",
       "      <td>2/17/2019</td>\n",
       "      <td>3</td>\n",
       "      <td>married</td>\n",
       "      <td>40423</td>\n",
       "      <td>both</td>\n",
       "    </tr>\n",
       "    <tr>\n",
       "      <th>1</th>\n",
       "      <td>2398795</td>\n",
       "      <td>1</td>\n",
       "      <td>2</td>\n",
       "      <td>3</td>\n",
       "      <td>7</td>\n",
       "      <td>15.0</td>\n",
       "      <td>196</td>\n",
       "      <td>1</td>\n",
       "      <td>1</td>\n",
       "      <td>Soda</td>\n",
       "      <td>77</td>\n",
       "      <td>7</td>\n",
       "      <td>9.000000</td>\n",
       "      <td>Mid range product</td>\n",
       "      <td>Regularly Busy</td>\n",
       "      <td>Slowest days</td>\n",
       "      <td>Average Orders</td>\n",
       "      <td>10</td>\n",
       "      <td>New Customer</td>\n",
       "      <td>6.367797</td>\n",
       "      <td>Low Spender</td>\n",
       "      <td>20.5</td>\n",
       "      <td>Non-frequent Customer</td>\n",
       "      <td>Female</td>\n",
       "      <td>Alabama</td>\n",
       "      <td>31</td>\n",
       "      <td>2/17/2019</td>\n",
       "      <td>3</td>\n",
       "      <td>married</td>\n",
       "      <td>40423</td>\n",
       "      <td>both</td>\n",
       "    </tr>\n",
       "    <tr>\n",
       "      <th>2</th>\n",
       "      <td>473747</td>\n",
       "      <td>1</td>\n",
       "      <td>3</td>\n",
       "      <td>3</td>\n",
       "      <td>12</td>\n",
       "      <td>21.0</td>\n",
       "      <td>196</td>\n",
       "      <td>1</td>\n",
       "      <td>1</td>\n",
       "      <td>Soda</td>\n",
       "      <td>77</td>\n",
       "      <td>7</td>\n",
       "      <td>9.000000</td>\n",
       "      <td>Mid range product</td>\n",
       "      <td>Regularly Busy</td>\n",
       "      <td>Slowest days</td>\n",
       "      <td>Most Orders</td>\n",
       "      <td>10</td>\n",
       "      <td>New Customer</td>\n",
       "      <td>6.367797</td>\n",
       "      <td>Low Spender</td>\n",
       "      <td>20.5</td>\n",
       "      <td>Non-frequent Customer</td>\n",
       "      <td>Female</td>\n",
       "      <td>Alabama</td>\n",
       "      <td>31</td>\n",
       "      <td>2/17/2019</td>\n",
       "      <td>3</td>\n",
       "      <td>married</td>\n",
       "      <td>40423</td>\n",
       "      <td>both</td>\n",
       "    </tr>\n",
       "    <tr>\n",
       "      <th>3</th>\n",
       "      <td>2254736</td>\n",
       "      <td>1</td>\n",
       "      <td>4</td>\n",
       "      <td>4</td>\n",
       "      <td>7</td>\n",
       "      <td>29.0</td>\n",
       "      <td>196</td>\n",
       "      <td>1</td>\n",
       "      <td>1</td>\n",
       "      <td>Soda</td>\n",
       "      <td>77</td>\n",
       "      <td>7</td>\n",
       "      <td>9.000000</td>\n",
       "      <td>Mid range product</td>\n",
       "      <td>Least Busy</td>\n",
       "      <td>Slowest days</td>\n",
       "      <td>Average Orders</td>\n",
       "      <td>10</td>\n",
       "      <td>New Customer</td>\n",
       "      <td>6.367797</td>\n",
       "      <td>Low Spender</td>\n",
       "      <td>20.5</td>\n",
       "      <td>Non-frequent Customer</td>\n",
       "      <td>Female</td>\n",
       "      <td>Alabama</td>\n",
       "      <td>31</td>\n",
       "      <td>2/17/2019</td>\n",
       "      <td>3</td>\n",
       "      <td>married</td>\n",
       "      <td>40423</td>\n",
       "      <td>both</td>\n",
       "    </tr>\n",
       "    <tr>\n",
       "      <th>4</th>\n",
       "      <td>431534</td>\n",
       "      <td>1</td>\n",
       "      <td>5</td>\n",
       "      <td>4</td>\n",
       "      <td>15</td>\n",
       "      <td>28.0</td>\n",
       "      <td>196</td>\n",
       "      <td>1</td>\n",
       "      <td>1</td>\n",
       "      <td>Soda</td>\n",
       "      <td>77</td>\n",
       "      <td>7</td>\n",
       "      <td>9.000000</td>\n",
       "      <td>Mid range product</td>\n",
       "      <td>Least Busy</td>\n",
       "      <td>Slowest days</td>\n",
       "      <td>Most Orders</td>\n",
       "      <td>10</td>\n",
       "      <td>New Customer</td>\n",
       "      <td>6.367797</td>\n",
       "      <td>Low Spender</td>\n",
       "      <td>20.5</td>\n",
       "      <td>Non-frequent Customer</td>\n",
       "      <td>Female</td>\n",
       "      <td>Alabama</td>\n",
       "      <td>31</td>\n",
       "      <td>2/17/2019</td>\n",
       "      <td>3</td>\n",
       "      <td>married</td>\n",
       "      <td>40423</td>\n",
       "      <td>both</td>\n",
       "    </tr>\n",
       "    <tr>\n",
       "      <th>...</th>\n",
       "      <td>...</td>\n",
       "      <td>...</td>\n",
       "      <td>...</td>\n",
       "      <td>...</td>\n",
       "      <td>...</td>\n",
       "      <td>...</td>\n",
       "      <td>...</td>\n",
       "      <td>...</td>\n",
       "      <td>...</td>\n",
       "      <td>...</td>\n",
       "      <td>...</td>\n",
       "      <td>...</td>\n",
       "      <td>...</td>\n",
       "      <td>...</td>\n",
       "      <td>...</td>\n",
       "      <td>...</td>\n",
       "      <td>...</td>\n",
       "      <td>...</td>\n",
       "      <td>...</td>\n",
       "      <td>...</td>\n",
       "      <td>...</td>\n",
       "      <td>...</td>\n",
       "      <td>...</td>\n",
       "      <td>...</td>\n",
       "      <td>...</td>\n",
       "      <td>...</td>\n",
       "      <td>...</td>\n",
       "      <td>...</td>\n",
       "      <td>...</td>\n",
       "      <td>...</td>\n",
       "      <td>...</td>\n",
       "    </tr>\n",
       "    <tr>\n",
       "      <th>32404854</th>\n",
       "      <td>156685</td>\n",
       "      <td>106143</td>\n",
       "      <td>26</td>\n",
       "      <td>4</td>\n",
       "      <td>23</td>\n",
       "      <td>5.0</td>\n",
       "      <td>19675</td>\n",
       "      <td>1</td>\n",
       "      <td>1</td>\n",
       "      <td>Organic Raspberry Black Tea</td>\n",
       "      <td>94</td>\n",
       "      <td>7</td>\n",
       "      <td>10.703125</td>\n",
       "      <td>Mid range product</td>\n",
       "      <td>Least Busy</td>\n",
       "      <td>Slowest days</td>\n",
       "      <td>Fewest Orders</td>\n",
       "      <td>26</td>\n",
       "      <td>Regular Customer</td>\n",
       "      <td>10.700000</td>\n",
       "      <td>High Spender</td>\n",
       "      <td>7.0</td>\n",
       "      <td>Frequent Customer</td>\n",
       "      <td>Male</td>\n",
       "      <td>Hawaii</td>\n",
       "      <td>25</td>\n",
       "      <td>5/26/2017</td>\n",
       "      <td>0</td>\n",
       "      <td>single</td>\n",
       "      <td>53755</td>\n",
       "      <td>both</td>\n",
       "    </tr>\n",
       "    <tr>\n",
       "      <th>32404855</th>\n",
       "      <td>484769</td>\n",
       "      <td>66343</td>\n",
       "      <td>1</td>\n",
       "      <td>6</td>\n",
       "      <td>11</td>\n",
       "      <td>NaN</td>\n",
       "      <td>47210</td>\n",
       "      <td>1</td>\n",
       "      <td>0</td>\n",
       "      <td>Fresh Farmed Tilapia Fillet</td>\n",
       "      <td>15</td>\n",
       "      <td>12</td>\n",
       "      <td>8.101562</td>\n",
       "      <td>Mid range product</td>\n",
       "      <td>Regularly Busy</td>\n",
       "      <td>Regularly Busy</td>\n",
       "      <td>Most Orders</td>\n",
       "      <td>4</td>\n",
       "      <td>New Customer</td>\n",
       "      <td>8.100000</td>\n",
       "      <td>Low Spender</td>\n",
       "      <td>30.0</td>\n",
       "      <td>Non-frequent Customer</td>\n",
       "      <td>Female</td>\n",
       "      <td>Tennessee</td>\n",
       "      <td>22</td>\n",
       "      <td>9/12/2017</td>\n",
       "      <td>3</td>\n",
       "      <td>married</td>\n",
       "      <td>46151</td>\n",
       "      <td>both</td>\n",
       "    </tr>\n",
       "    <tr>\n",
       "      <th>32404856</th>\n",
       "      <td>1561557</td>\n",
       "      <td>66343</td>\n",
       "      <td>2</td>\n",
       "      <td>1</td>\n",
       "      <td>11</td>\n",
       "      <td>30.0</td>\n",
       "      <td>47210</td>\n",
       "      <td>1</td>\n",
       "      <td>1</td>\n",
       "      <td>Fresh Farmed Tilapia Fillet</td>\n",
       "      <td>15</td>\n",
       "      <td>12</td>\n",
       "      <td>8.101562</td>\n",
       "      <td>Mid range product</td>\n",
       "      <td>Regularly Busy</td>\n",
       "      <td>Busiest days</td>\n",
       "      <td>Most Orders</td>\n",
       "      <td>4</td>\n",
       "      <td>New Customer</td>\n",
       "      <td>8.100000</td>\n",
       "      <td>Low Spender</td>\n",
       "      <td>30.0</td>\n",
       "      <td>Non-frequent Customer</td>\n",
       "      <td>Female</td>\n",
       "      <td>Tennessee</td>\n",
       "      <td>22</td>\n",
       "      <td>9/12/2017</td>\n",
       "      <td>3</td>\n",
       "      <td>married</td>\n",
       "      <td>46151</td>\n",
       "      <td>both</td>\n",
       "    </tr>\n",
       "    <tr>\n",
       "      <th>32404857</th>\n",
       "      <td>276317</td>\n",
       "      <td>66343</td>\n",
       "      <td>3</td>\n",
       "      <td>6</td>\n",
       "      <td>15</td>\n",
       "      <td>19.0</td>\n",
       "      <td>47210</td>\n",
       "      <td>1</td>\n",
       "      <td>1</td>\n",
       "      <td>Fresh Farmed Tilapia Fillet</td>\n",
       "      <td>15</td>\n",
       "      <td>12</td>\n",
       "      <td>8.101562</td>\n",
       "      <td>Mid range product</td>\n",
       "      <td>Regularly Busy</td>\n",
       "      <td>Regularly Busy</td>\n",
       "      <td>Most Orders</td>\n",
       "      <td>4</td>\n",
       "      <td>New Customer</td>\n",
       "      <td>8.100000</td>\n",
       "      <td>Low Spender</td>\n",
       "      <td>30.0</td>\n",
       "      <td>Non-frequent Customer</td>\n",
       "      <td>Female</td>\n",
       "      <td>Tennessee</td>\n",
       "      <td>22</td>\n",
       "      <td>9/12/2017</td>\n",
       "      <td>3</td>\n",
       "      <td>married</td>\n",
       "      <td>46151</td>\n",
       "      <td>both</td>\n",
       "    </tr>\n",
       "    <tr>\n",
       "      <th>32404858</th>\n",
       "      <td>2922475</td>\n",
       "      <td>66343</td>\n",
       "      <td>4</td>\n",
       "      <td>1</td>\n",
       "      <td>12</td>\n",
       "      <td>30.0</td>\n",
       "      <td>47210</td>\n",
       "      <td>1</td>\n",
       "      <td>1</td>\n",
       "      <td>Fresh Farmed Tilapia Fillet</td>\n",
       "      <td>15</td>\n",
       "      <td>12</td>\n",
       "      <td>8.101562</td>\n",
       "      <td>Mid range product</td>\n",
       "      <td>Regularly Busy</td>\n",
       "      <td>Busiest days</td>\n",
       "      <td>Most Orders</td>\n",
       "      <td>4</td>\n",
       "      <td>New Customer</td>\n",
       "      <td>8.100000</td>\n",
       "      <td>Low Spender</td>\n",
       "      <td>30.0</td>\n",
       "      <td>Non-frequent Customer</td>\n",
       "      <td>Female</td>\n",
       "      <td>Tennessee</td>\n",
       "      <td>22</td>\n",
       "      <td>9/12/2017</td>\n",
       "      <td>3</td>\n",
       "      <td>married</td>\n",
       "      <td>46151</td>\n",
       "      <td>both</td>\n",
       "    </tr>\n",
       "  </tbody>\n",
       "</table>\n",
       "<p>32404859 rows × 31 columns</p>\n",
       "</div>"
      ],
      "text/plain": [
       "          order_id user_id  user_order_number  orders_day_of_week  \\\n",
       "0          2539329       1                  1                   2   \n",
       "1          2398795       1                  2                   3   \n",
       "2           473747       1                  3                   3   \n",
       "3          2254736       1                  4                   4   \n",
       "4           431534       1                  5                   4   \n",
       "...            ...     ...                ...                 ...   \n",
       "32404854    156685  106143                 26                   4   \n",
       "32404855    484769   66343                  1                   6   \n",
       "32404856   1561557   66343                  2                   1   \n",
       "32404857    276317   66343                  3                   6   \n",
       "32404858   2922475   66343                  4                   1   \n",
       "\n",
       "          order_hour_of_day  days_since_prior_order  product_id  \\\n",
       "0                         8                     NaN         196   \n",
       "1                         7                    15.0         196   \n",
       "2                        12                    21.0         196   \n",
       "3                         7                    29.0         196   \n",
       "4                        15                    28.0         196   \n",
       "...                     ...                     ...         ...   \n",
       "32404854                 23                     5.0       19675   \n",
       "32404855                 11                     NaN       47210   \n",
       "32404856                 11                    30.0       47210   \n",
       "32404857                 15                    19.0       47210   \n",
       "32404858                 12                    30.0       47210   \n",
       "\n",
       "          add_to_cart_order  reordered                 product_name  aisle_id  \\\n",
       "0                         1          0                         Soda        77   \n",
       "1                         1          1                         Soda        77   \n",
       "2                         1          1                         Soda        77   \n",
       "3                         1          1                         Soda        77   \n",
       "4                         1          1                         Soda        77   \n",
       "...                     ...        ...                          ...       ...   \n",
       "32404854                  1          1  Organic Raspberry Black Tea        94   \n",
       "32404855                  1          0  Fresh Farmed Tilapia Fillet        15   \n",
       "32404856                  1          1  Fresh Farmed Tilapia Fillet        15   \n",
       "32404857                  1          1  Fresh Farmed Tilapia Fillet        15   \n",
       "32404858                  1          1  Fresh Farmed Tilapia Fillet        15   \n",
       "\n",
       "          department_id     prices    price_range_loc     busiest_day  \\\n",
       "0                     7   9.000000  Mid range product  Regularly Busy   \n",
       "1                     7   9.000000  Mid range product  Regularly Busy   \n",
       "2                     7   9.000000  Mid range product  Regularly Busy   \n",
       "3                     7   9.000000  Mid range product      Least Busy   \n",
       "4                     7   9.000000  Mid range product      Least Busy   \n",
       "...                 ...        ...                ...             ...   \n",
       "32404854              7  10.703125  Mid range product      Least Busy   \n",
       "32404855             12   8.101562  Mid range product  Regularly Busy   \n",
       "32404856             12   8.101562  Mid range product  Regularly Busy   \n",
       "32404857             12   8.101562  Mid range product  Regularly Busy   \n",
       "32404858             12   8.101562  Mid range product  Regularly Busy   \n",
       "\n",
       "            busiest_days busiest_period_of_day  max_order      loyalty_flag  \\\n",
       "0         Regularly Busy        Average Orders         10      New Customer   \n",
       "1           Slowest days        Average Orders         10      New Customer   \n",
       "2           Slowest days           Most Orders         10      New Customer   \n",
       "3           Slowest days        Average Orders         10      New Customer   \n",
       "4           Slowest days           Most Orders         10      New Customer   \n",
       "...                  ...                   ...        ...               ...   \n",
       "32404854    Slowest days         Fewest Orders         26  Regular Customer   \n",
       "32404855  Regularly Busy           Most Orders          4      New Customer   \n",
       "32404856    Busiest days           Most Orders          4      New Customer   \n",
       "32404857  Regularly Busy           Most Orders          4      New Customer   \n",
       "32404858    Busiest days           Most Orders          4      New Customer   \n",
       "\n",
       "          average_order spending_flag  order_freq              freq_flag  \\\n",
       "0              6.367797   Low Spender        20.5  Non-frequent Customer   \n",
       "1              6.367797   Low Spender        20.5  Non-frequent Customer   \n",
       "2              6.367797   Low Spender        20.5  Non-frequent Customer   \n",
       "3              6.367797   Low Spender        20.5  Non-frequent Customer   \n",
       "4              6.367797   Low Spender        20.5  Non-frequent Customer   \n",
       "...                 ...           ...         ...                    ...   \n",
       "32404854      10.700000  High Spender         7.0      Frequent Customer   \n",
       "32404855       8.100000   Low Spender        30.0  Non-frequent Customer   \n",
       "32404856       8.100000   Low Spender        30.0  Non-frequent Customer   \n",
       "32404857       8.100000   Low Spender        30.0  Non-frequent Customer   \n",
       "32404858       8.100000   Low Spender        30.0  Non-frequent Customer   \n",
       "\n",
       "          Gender      STATE  Age date_joined  Number_of_Dependants fam_status  \\\n",
       "0         Female    Alabama   31   2/17/2019                     3    married   \n",
       "1         Female    Alabama   31   2/17/2019                     3    married   \n",
       "2         Female    Alabama   31   2/17/2019                     3    married   \n",
       "3         Female    Alabama   31   2/17/2019                     3    married   \n",
       "4         Female    Alabama   31   2/17/2019                     3    married   \n",
       "...          ...        ...  ...         ...                   ...        ...   \n",
       "32404854    Male     Hawaii   25   5/26/2017                     0     single   \n",
       "32404855  Female  Tennessee   22   9/12/2017                     3    married   \n",
       "32404856  Female  Tennessee   22   9/12/2017                     3    married   \n",
       "32404857  Female  Tennessee   22   9/12/2017                     3    married   \n",
       "32404858  Female  Tennessee   22   9/12/2017                     3    married   \n",
       "\n",
       "          income  True  \n",
       "0          40423  both  \n",
       "1          40423  both  \n",
       "2          40423  both  \n",
       "3          40423  both  \n",
       "4          40423  both  \n",
       "...          ...   ...  \n",
       "32404854   53755  both  \n",
       "32404855   46151  both  \n",
       "32404856   46151  both  \n",
       "32404857   46151  both  \n",
       "32404858   46151  both  \n",
       "\n",
       "[32404859 rows x 31 columns]"
      ]
     },
     "execution_count": 5,
     "metadata": {},
     "output_type": "execute_result"
    }
   ],
   "source": [
    "# drop first and last name columns to protect customer privacy\n",
    "#(also on the age and dependant columns are not properly replaced so I will drop those as well )\n",
    "\n",
    "df.drop(columns = ['First Name', 'Last Name', 'age', 'n_dependants'])"
   ]
  },
  {
   "cell_type": "markdown",
   "id": "62b350b5",
   "metadata": {},
   "source": [
    "# Step 3:\n",
    "\n",
    "The Instacart officers are interested in comparing customer behavior in different geographic areas. Create a regional segmentation of the data. You’ll need to create a “Region” column based on the “State” column from your customers data set.\n",
    "Use the region information in this Wikipedia article to create your column (you only need to create regions, not divisions).\n",
    "Determine whether there’s a difference in spending habits between the different U.S. regions. (Hint: You can do this by crossing the variable you just created with the spending flag.)\n",
    "\n"
   ]
  },
  {
   "cell_type": "code",
   "execution_count": 6,
   "id": "8c5ab9ab",
   "metadata": {},
   "outputs": [],
   "source": [
    "# first make lists for the states in each region\n",
    "\n",
    "northeast = ['Maine', 'New Hampshire', 'Vermont', 'Massachusetts', 'Rhode Island', 'Connecticut', 'New York', 'Pennsylvania', 'New Jersey']\n",
    "midwest = ['Wisconsin', 'Michigan', 'Illinois', 'Indiana', 'Ohio', 'North Dakota', 'South Dakota', 'Nebraska', 'Kansas', 'Minnesota', 'Iowa', 'Missouri']\n",
    "south = ['Delaware', 'Maryland', 'District of Columbia', 'Virginia', 'West Virginia', 'North Carolina', 'South Carolina', 'Georgia', 'Florida', 'Kentucky', 'Tennessee', 'Mississippi', 'Alabama', 'Oklahoma', 'Texas', 'Arkansas', 'Louisiana']\n",
    "west = ['Idaho', 'Montana', 'Wyoming', 'Nevada', 'Utah', 'Colorado', 'Arizona', 'New Mexico', 'Alaska', 'Washington', 'Oregon', 'California', 'Hawaii']\n"
   ]
  },
  {
   "cell_type": "markdown",
   "id": "5f5e21f5",
   "metadata": {},
   "source": [
    "## Step 3A:  Use the loc function to create a new column that will display the region for each order"
   ]
  },
  {
   "cell_type": "code",
   "execution_count": 7,
   "id": "9e93125e",
   "metadata": {},
   "outputs": [],
   "source": [
    "# northeast\n",
    "\n",
    "df.loc[df['STATE'].isin(northeast), 'Region'] = 'Northeast'"
   ]
  },
  {
   "cell_type": "code",
   "execution_count": 8,
   "id": "e63c41ba",
   "metadata": {},
   "outputs": [],
   "source": [
    "# midwest\n",
    "\n",
    "df.loc[df['STATE'].isin(midwest), 'Region'] = \"Midwest\""
   ]
  },
  {
   "cell_type": "code",
   "execution_count": 9,
   "id": "de564ba9",
   "metadata": {},
   "outputs": [],
   "source": [
    "# south\n",
    "\n",
    "df.loc[df['STATE'].isin(south), 'Region'] = 'South'"
   ]
  },
  {
   "cell_type": "code",
   "execution_count": 10,
   "id": "e4372ae0",
   "metadata": {},
   "outputs": [],
   "source": [
    "# west\n",
    "\n",
    "df.loc[df['STATE'].isin(west), 'Region'] = 'West'"
   ]
  },
  {
   "cell_type": "code",
   "execution_count": 11,
   "id": "de446806",
   "metadata": {},
   "outputs": [
    {
     "data": {
      "text/plain": [
       "South        10791885\n",
       "West          8292913\n",
       "Midwest       7597325\n",
       "Northeast     5722736\n",
       "Name: Region, dtype: int64"
      ]
     },
     "execution_count": 11,
     "metadata": {},
     "output_type": "execute_result"
    }
   ],
   "source": [
    "# check the values of the new column\n",
    "\n",
    "df['Region'].value_counts()"
   ]
  },
  {
   "cell_type": "markdown",
   "id": "41e1c274",
   "metadata": {},
   "source": [
    "## Step 3B. Compare spending habits by region"
   ]
  },
  {
   "cell_type": "code",
   "execution_count": 12,
   "id": "1ac6463a",
   "metadata": {},
   "outputs": [],
   "source": [
    "# make a crosstab of spending flags by region\n",
    "\n",
    "spending_byregion = pd.crosstab(df['Region'], df['spending_flag'], dropna = False)"
   ]
  },
  {
   "cell_type": "code",
   "execution_count": 13,
   "id": "2834fb9d",
   "metadata": {},
   "outputs": [
    {
     "data": {
      "text/html": [
       "<div>\n",
       "<style scoped>\n",
       "    .dataframe tbody tr th:only-of-type {\n",
       "        vertical-align: middle;\n",
       "    }\n",
       "\n",
       "    .dataframe tbody tr th {\n",
       "        vertical-align: top;\n",
       "    }\n",
       "\n",
       "    .dataframe thead th {\n",
       "        text-align: right;\n",
       "    }\n",
       "</style>\n",
       "<table border=\"1\" class=\"dataframe\">\n",
       "  <thead>\n",
       "    <tr style=\"text-align: right;\">\n",
       "      <th>spending_flag</th>\n",
       "      <th>High Spender</th>\n",
       "      <th>Low Spender</th>\n",
       "    </tr>\n",
       "    <tr>\n",
       "      <th>Region</th>\n",
       "      <th></th>\n",
       "      <th></th>\n",
       "    </tr>\n",
       "  </thead>\n",
       "  <tbody>\n",
       "    <tr>\n",
       "      <th>Midwest</th>\n",
       "      <td>155975</td>\n",
       "      <td>7441350</td>\n",
       "    </tr>\n",
       "    <tr>\n",
       "      <th>Northeast</th>\n",
       "      <td>108225</td>\n",
       "      <td>5614511</td>\n",
       "    </tr>\n",
       "    <tr>\n",
       "      <th>South</th>\n",
       "      <td>209691</td>\n",
       "      <td>10582194</td>\n",
       "    </tr>\n",
       "    <tr>\n",
       "      <th>West</th>\n",
       "      <td>160354</td>\n",
       "      <td>8132559</td>\n",
       "    </tr>\n",
       "  </tbody>\n",
       "</table>\n",
       "</div>"
      ],
      "text/plain": [
       "spending_flag  High Spender  Low Spender\n",
       "Region                                  \n",
       "Midwest              155975      7441350\n",
       "Northeast            108225      5614511\n",
       "South                209691     10582194\n",
       "West                 160354      8132559"
      ]
     },
     "execution_count": 13,
     "metadata": {},
     "output_type": "execute_result"
    }
   ],
   "source": [
    "# check output\n",
    "\n",
    "spending_byregion"
   ]
  },
  {
   "cell_type": "code",
   "execution_count": 14,
   "id": "21243331",
   "metadata": {},
   "outputs": [],
   "source": [
    "# copy to clipboard to paste in excel\n",
    "\n",
    "spending_byregion.to_clipboard()"
   ]
  },
  {
   "cell_type": "markdown",
   "id": "ba8d7b61",
   "metadata": {},
   "source": [
    "# Step 4:\n",
    "\n",
    "The Instacart CFO isn’t interested in customers who don’t generate much revenue for the app. Create an exclusion flag for low-activity customers (customers with less than 5 orders) and exclude them from the data. Make sure you export this sample."
   ]
  },
  {
   "cell_type": "code",
   "execution_count": 15,
   "id": "95a0a9b9",
   "metadata": {},
   "outputs": [],
   "source": [
    "# create a subset df with only customer with max order values above 5\n",
    "\n",
    "df_2 = df[df['max_order'] >= 5]"
   ]
  },
  {
   "cell_type": "code",
   "execution_count": 45,
   "id": "c456876b",
   "metadata": {},
   "outputs": [
    {
     "data": {
      "text/plain": [
       "30964564"
      ]
     },
     "execution_count": 45,
     "metadata": {},
     "output_type": "execute_result"
    }
   ],
   "source": [
    "# check new length \n",
    "\n",
    "len(df_2)"
   ]
  },
  {
   "cell_type": "code",
   "execution_count": 16,
   "id": "e1901726",
   "metadata": {},
   "outputs": [
    {
     "data": {
      "text/plain": [
       "32404859"
      ]
     },
     "execution_count": 16,
     "metadata": {},
     "output_type": "execute_result"
    }
   ],
   "source": [
    "#check that the length of the new database lines up how it should\n",
    "\n",
    "len(df_2) + len(df[df['max_order'] < 5])"
   ]
  },
  {
   "cell_type": "code",
   "execution_count": 17,
   "id": "554e9728",
   "metadata": {},
   "outputs": [
    {
     "data": {
      "text/plain": [
       "32404859"
      ]
     },
     "execution_count": 17,
     "metadata": {},
     "output_type": "execute_result"
    }
   ],
   "source": [
    "# the lengths match, should be good to use\n",
    "\n",
    "len(df)"
   ]
  },
  {
   "cell_type": "code",
   "execution_count": 18,
   "id": "40623ecd",
   "metadata": {},
   "outputs": [],
   "source": [
    "# export the new sample with out low spending customers\n",
    "\n",
    "df_2.to_pickle(os.path.join(path, 'Prepared_Data', 'final_lowspend_excluded.pkl'))"
   ]
  },
  {
   "cell_type": "markdown",
   "id": "5bb6e6e6",
   "metadata": {},
   "source": [
    "# Step 5:\n",
    "\n",
    "The marketing and business strategy units at Instacart want to create more-relevant marketing strategies for different products and are, thus, curious about customer profiling in their database. Create a profiling variable based on (A)age, (B)income, certain goods in the (C)“department_id” column, and number of (D)dependents.\n",
    "\n",
    "You might also use the (E) “orders_day_of_the_week” and “order_hour_of_day” columns if you can think of a way they would impact customer profiles. (Hint: As an example, try thinking of what characteristics would lead you to the profile “Single adult” or “Young parent.”)"
   ]
  },
  {
   "cell_type": "markdown",
   "id": "7821953d",
   "metadata": {},
   "source": [
    "## Step 5A. Make a profiling variable based on age"
   ]
  },
  {
   "cell_type": "code",
   "execution_count": 19,
   "id": "1aa45c48",
   "metadata": {},
   "outputs": [
    {
     "data": {
      "text/plain": [
       "count    3.096456e+07\n",
       "mean     4.946803e+01\n",
       "std      1.848528e+01\n",
       "min      1.800000e+01\n",
       "25%      3.300000e+01\n",
       "50%      4.900000e+01\n",
       "75%      6.500000e+01\n",
       "max      8.100000e+01\n",
       "Name: Age, dtype: float64"
      ]
     },
     "execution_count": 19,
     "metadata": {},
     "output_type": "execute_result"
    }
   ],
   "source": [
    "# first I will check the basic stats for the ages columns to get an idea for the categories\n",
    "\n",
    "df_2['Age'].describe()"
   ]
  },
  {
   "cell_type": "markdown",
   "id": "2dc35a4f",
   "metadata": {},
   "source": [
    "#### Step 5A. Based on this data I will have 4 categories: \n",
    " Young Adult (18-33)  \n",
    " Adult (34-49)  \n",
    " Middle Aged (50-64)   \n",
    " Senior (65+)\n",
    " \n",
    " I will make these flags and store them in an 'Age Group' column"
   ]
  },
  {
   "cell_type": "code",
   "execution_count": 63,
   "id": "66f13eee",
   "metadata": {
    "scrolled": true
   },
   "outputs": [],
   "source": [
    "# young adult \n",
    "\n",
    "df_2.loc[df_2['Age'] <= 33 , 'Age Group'] = 'Young Adult'"
   ]
  },
  {
   "cell_type": "code",
   "execution_count": 21,
   "id": "4017d228",
   "metadata": {},
   "outputs": [],
   "source": [
    "# adult\n",
    "\n",
    "df_2.loc[(df_2['Age'] >33) & (df_2['Age'] <= 49) , 'Age Group'] = 'Adult'"
   ]
  },
  {
   "cell_type": "code",
   "execution_count": 22,
   "id": "3bc8999c",
   "metadata": {},
   "outputs": [],
   "source": [
    "# middle age\n",
    "\n",
    "df_2.loc[(df_2['Age'] > 49) & (df_2['Age'] <= 64) , 'Age Group'] = 'Middle Aged'"
   ]
  },
  {
   "cell_type": "code",
   "execution_count": 23,
   "id": "af02652a",
   "metadata": {},
   "outputs": [],
   "source": [
    "# senior\n",
    "\n",
    "df_2.loc[df_2['Age'] >= 65 , 'Age Group'] = 'Senior'"
   ]
  },
  {
   "cell_type": "code",
   "execution_count": 24,
   "id": "b69f23f5",
   "metadata": {},
   "outputs": [
    {
     "data": {
      "text/plain": [
       "Senior         8195544\n",
       "Adult          7790824\n",
       "Young Adult    7757465\n",
       "Middle Aged    7220731\n",
       "Name: Age Group, dtype: int64"
      ]
     },
     "execution_count": 24,
     "metadata": {},
     "output_type": "execute_result"
    }
   ],
   "source": [
    "# check the value counts of this column\n",
    "\n",
    "df_2['Age Group'].value_counts(dropna = False)"
   ]
  },
  {
   "cell_type": "markdown",
   "id": "929ebba4",
   "metadata": {},
   "source": [
    "## Step 5B. Make a profile based on Income"
   ]
  },
  {
   "cell_type": "code",
   "execution_count": 25,
   "id": "c881b855",
   "metadata": {},
   "outputs": [
    {
     "data": {
      "text/plain": [
       "count    3.096456e+07\n",
       "mean     9.967587e+04\n",
       "std      4.314187e+04\n",
       "min      2.590300e+04\n",
       "25%      6.729200e+04\n",
       "50%      9.676500e+04\n",
       "75%      1.281020e+05\n",
       "max      5.939010e+05\n",
       "Name: income, dtype: float64"
      ]
     },
     "execution_count": 25,
     "metadata": {},
     "output_type": "execute_result"
    }
   ],
   "source": [
    "# again I will start by looking at the stats for income\n",
    "\n",
    "df_2['income'].describe()"
   ]
  },
  {
   "cell_type": "markdown",
   "id": "25f9f441",
   "metadata": {},
   "source": [
    "### Step 5B. For this income I will make three categories\n",
    "\n",
    "lower income (under 60,000)   \n",
    "middle income (60,000 - 100,000)  \n",
    "high income (over 100,000)  "
   ]
  },
  {
   "cell_type": "code",
   "execution_count": 62,
   "id": "01981a08",
   "metadata": {},
   "outputs": [],
   "source": [
    "# lower income \n",
    "\n",
    "df_2.loc[df_2['income'] < 60000 , 'Income Group'] = 'Lower Income'"
   ]
  },
  {
   "cell_type": "code",
   "execution_count": 27,
   "id": "76c5c77f",
   "metadata": {},
   "outputs": [],
   "source": [
    "# middle income \n",
    "\n",
    "df_2.loc[(df_2['income'] >= 60000) & (df_2['income'] <= 100000) , 'Income Group'] = 'Middle Income'"
   ]
  },
  {
   "cell_type": "code",
   "execution_count": 28,
   "id": "27c20b83",
   "metadata": {},
   "outputs": [],
   "source": [
    "# high income \n",
    "\n",
    "df_2.loc[df_2['income'] > 100000 , 'Income Group'] = 'High Income'"
   ]
  },
  {
   "cell_type": "code",
   "execution_count": 29,
   "id": "b5480cc5",
   "metadata": {},
   "outputs": [
    {
     "data": {
      "text/plain": [
       "High Income      14207028\n",
       "Middle Income    10954786\n",
       "Lower Income      5802750\n",
       "Name: Income Group, dtype: int64"
      ]
     },
     "execution_count": 29,
     "metadata": {},
     "output_type": "execute_result"
    }
   ],
   "source": [
    "# check the flag column\n",
    "\n",
    "df_2['Income Group'].value_counts(dropna = False)"
   ]
  },
  {
   "cell_type": "markdown",
   "id": "931fd097",
   "metadata": {},
   "source": [
    "## Step 5C. Make a profiling variable based on department ID"
   ]
  },
  {
   "cell_type": "code",
   "execution_count": 30,
   "id": "1703c67c",
   "metadata": {},
   "outputs": [],
   "source": [
    "# first I will import and view the departmens IDs list\n",
    "\n",
    "deps = pd.read_csv(os.path.join(path, 'Prepared_Data', 'deparments_wrangled.csv') , index_col = 0)"
   ]
  },
  {
   "cell_type": "code",
   "execution_count": 31,
   "id": "e1c935d2",
   "metadata": {},
   "outputs": [
    {
     "data": {
      "text/html": [
       "<div>\n",
       "<style scoped>\n",
       "    .dataframe tbody tr th:only-of-type {\n",
       "        vertical-align: middle;\n",
       "    }\n",
       "\n",
       "    .dataframe tbody tr th {\n",
       "        vertical-align: top;\n",
       "    }\n",
       "\n",
       "    .dataframe thead th {\n",
       "        text-align: right;\n",
       "    }\n",
       "</style>\n",
       "<table border=\"1\" class=\"dataframe\">\n",
       "  <thead>\n",
       "    <tr style=\"text-align: right;\">\n",
       "      <th></th>\n",
       "      <th>department</th>\n",
       "    </tr>\n",
       "  </thead>\n",
       "  <tbody>\n",
       "    <tr>\n",
       "      <th>1</th>\n",
       "      <td>frozen</td>\n",
       "    </tr>\n",
       "    <tr>\n",
       "      <th>2</th>\n",
       "      <td>other</td>\n",
       "    </tr>\n",
       "    <tr>\n",
       "      <th>3</th>\n",
       "      <td>bakery</td>\n",
       "    </tr>\n",
       "    <tr>\n",
       "      <th>4</th>\n",
       "      <td>produce</td>\n",
       "    </tr>\n",
       "    <tr>\n",
       "      <th>5</th>\n",
       "      <td>alcohol</td>\n",
       "    </tr>\n",
       "    <tr>\n",
       "      <th>6</th>\n",
       "      <td>international</td>\n",
       "    </tr>\n",
       "    <tr>\n",
       "      <th>7</th>\n",
       "      <td>beverages</td>\n",
       "    </tr>\n",
       "    <tr>\n",
       "      <th>8</th>\n",
       "      <td>pets</td>\n",
       "    </tr>\n",
       "    <tr>\n",
       "      <th>9</th>\n",
       "      <td>dry goods pasta</td>\n",
       "    </tr>\n",
       "    <tr>\n",
       "      <th>10</th>\n",
       "      <td>bulk</td>\n",
       "    </tr>\n",
       "    <tr>\n",
       "      <th>11</th>\n",
       "      <td>personal care</td>\n",
       "    </tr>\n",
       "    <tr>\n",
       "      <th>12</th>\n",
       "      <td>meat seafood</td>\n",
       "    </tr>\n",
       "    <tr>\n",
       "      <th>13</th>\n",
       "      <td>pantry</td>\n",
       "    </tr>\n",
       "    <tr>\n",
       "      <th>14</th>\n",
       "      <td>breakfast</td>\n",
       "    </tr>\n",
       "    <tr>\n",
       "      <th>15</th>\n",
       "      <td>canned goods</td>\n",
       "    </tr>\n",
       "    <tr>\n",
       "      <th>16</th>\n",
       "      <td>dairy eggs</td>\n",
       "    </tr>\n",
       "    <tr>\n",
       "      <th>17</th>\n",
       "      <td>household</td>\n",
       "    </tr>\n",
       "    <tr>\n",
       "      <th>18</th>\n",
       "      <td>babies</td>\n",
       "    </tr>\n",
       "    <tr>\n",
       "      <th>19</th>\n",
       "      <td>snacks</td>\n",
       "    </tr>\n",
       "    <tr>\n",
       "      <th>20</th>\n",
       "      <td>deli</td>\n",
       "    </tr>\n",
       "    <tr>\n",
       "      <th>21</th>\n",
       "      <td>missing</td>\n",
       "    </tr>\n",
       "  </tbody>\n",
       "</table>\n",
       "</div>"
      ],
      "text/plain": [
       "         department\n",
       "1            frozen\n",
       "2             other\n",
       "3            bakery\n",
       "4           produce\n",
       "5           alcohol\n",
       "6     international\n",
       "7         beverages\n",
       "8              pets\n",
       "9   dry goods pasta\n",
       "10             bulk\n",
       "11    personal care\n",
       "12     meat seafood\n",
       "13           pantry\n",
       "14        breakfast\n",
       "15     canned goods\n",
       "16       dairy eggs\n",
       "17        household\n",
       "18           babies\n",
       "19           snacks\n",
       "20             deli\n",
       "21          missing"
      ]
     },
     "execution_count": 31,
     "metadata": {},
     "output_type": "execute_result"
    }
   ],
   "source": [
    "# viewing deps \n",
    "deps"
   ]
  },
  {
   "cell_type": "markdown",
   "id": "e4441fb3",
   "metadata": {},
   "source": [
    "### 5C. for this I will try to establish food items, specialized, and everyday items\n",
    "This will be based on lists where the department ids are grouped into categories\n",
    "\n"
   ]
  },
  {
   "cell_type": "code",
   "execution_count": 3,
   "id": "51380b4a",
   "metadata": {},
   "outputs": [],
   "source": [
    "# first I will make lists with the product categorues\n",
    "\n",
    "food = [1,3,4,7,9,12,13,14,15,16,19,20]\n",
    "specialized = [10, 5, 8,18,6,7]\n",
    "everyday_items = [11,17]\n",
    "other = [2,21]"
   ]
  },
  {
   "cell_type": "code",
   "execution_count": 56,
   "id": "1cabd11f",
   "metadata": {},
   "outputs": [],
   "source": [
    "# food\n",
    "\n",
    "df_2.loc[df_2['department_id'].isin(food)  , 'Product Group'] = 'Food Product'"
   ]
  },
  {
   "cell_type": "code",
   "execution_count": 57,
   "id": "0456d3de",
   "metadata": {},
   "outputs": [],
   "source": [
    "# specialized product\n",
    "\n",
    "df_2.loc[df_2['department_id'].isin(specialized)  , 'Product Group'] = 'Specialized Product'"
   ]
  },
  {
   "cell_type": "code",
   "execution_count": 58,
   "id": "ad36e539",
   "metadata": {},
   "outputs": [],
   "source": [
    "# Every Day Product\n",
    "\n",
    "df_2.loc[df_2['department_id'].isin(everyday_items)  , 'Product Group'] = 'Every Day Product'"
   ]
  },
  {
   "cell_type": "code",
   "execution_count": 59,
   "id": "7b8cfd1e",
   "metadata": {},
   "outputs": [],
   "source": [
    "# Other\n",
    "\n",
    "df_2.loc[df_2['department_id'].isin(other)  , 'Product Group'] = 'Other'"
   ]
  },
  {
   "cell_type": "code",
   "execution_count": 60,
   "id": "57321551",
   "metadata": {},
   "outputs": [
    {
     "data": {
      "text/plain": [
       "Food Product           26231800\n",
       "Specialized Product     3509422\n",
       "Every Day Product       1124163\n",
       "Other                     99179\n",
       "Name: Product Group, dtype: int64"
      ]
     },
     "execution_count": 60,
     "metadata": {},
     "output_type": "execute_result"
    }
   ],
   "source": [
    "# Check values\n",
    "\n",
    "df_2['Product Group'].value_counts(dropna = False)"
   ]
  },
  {
   "cell_type": "markdown",
   "id": "ad13bdd7",
   "metadata": {},
   "source": [
    "## Step 5D. Make a profile based on # of dependants"
   ]
  },
  {
   "cell_type": "code",
   "execution_count": 33,
   "id": "a935f417",
   "metadata": {},
   "outputs": [
    {
     "data": {
      "text/plain": [
       "3    7772516\n",
       "0    7739681\n",
       "2    7733261\n",
       "1    7719106\n",
       "Name: Number_of_Dependants, dtype: int64"
      ]
     },
     "execution_count": 33,
     "metadata": {},
     "output_type": "execute_result"
    }
   ],
   "source": [
    "# first establish the counts on the number of dependents\n",
    "\n",
    "df_2['Number_of_Dependants'].value_counts()"
   ]
  },
  {
   "cell_type": "code",
   "execution_count": 34,
   "id": "5ee652a7",
   "metadata": {},
   "outputs": [
    {
     "data": {
      "text/plain": [
       "married                             21743711\n",
       "single                               5094410\n",
       "divorced/widowed                     2645271\n",
       "living with parents and siblings     1481172\n",
       "Name: fam_status, dtype: int64"
      ]
     },
     "execution_count": 34,
     "metadata": {},
     "output_type": "execute_result"
    }
   ],
   "source": [
    "# also check the fam status columns\n",
    "\n",
    "df_2['fam_status'].value_counts(dropna = False)"
   ]
  },
  {
   "cell_type": "markdown",
   "id": "79e376f7",
   "metadata": {},
   "source": [
    "### 5D. For this I will establish several family groupings\n",
    "\n",
    "After some trial and error I found that the best categories for this section would be:\n",
    "\n",
    "big family = 3 or more dependants and married or living with parents/sibilings   \n",
    "family = between 1 and 3 dependants and married or living with parents/siblings    \n",
    "single adult = no dependants \n",
    "\n",
    "There did not appear to be any married couples without dependants or single parents in this database"
   ]
  },
  {
   "cell_type": "code",
   "execution_count": 61,
   "id": "d9cc02a6",
   "metadata": {},
   "outputs": [],
   "source": [
    "# big family\n",
    "\n",
    "df_2.loc[(df_2['Number_of_Dependants'] == 3) & (df_2['fam_status'].isin(['married', 'living with parents and siblings'])) , 'Family Group'] = 'Big Family'"
   ]
  },
  {
   "cell_type": "code",
   "execution_count": 36,
   "id": "c29c2ad6",
   "metadata": {},
   "outputs": [],
   "source": [
    "# family\n",
    "\n",
    "df_2.loc[(df_2['Number_of_Dependants'] > 0) & (df_2['Number_of_Dependants'] < 3) & (df_2['fam_status'].isin(['married', 'living with parents and siblings'])) , 'Family Group'] = 'Family'"
   ]
  },
  {
   "cell_type": "code",
   "execution_count": 37,
   "id": "91651f74",
   "metadata": {},
   "outputs": [],
   "source": [
    "# Single Adult\n",
    "\n",
    "df_2.loc[(df_2['Number_of_Dependants'] == 0) & (df_2['fam_status'].isin(['single', 'divorced/widowed']))  , 'Family Group'] = 'Single Adult'"
   ]
  },
  {
   "cell_type": "code",
   "execution_count": 38,
   "id": "5fac3d83",
   "metadata": {
    "scrolled": true
   },
   "outputs": [
    {
     "data": {
      "text/plain": [
       "Family          15452367\n",
       "Big Family       7772516\n",
       "Single Adult     7739681\n",
       "Name: Family Group, dtype: int64"
      ]
     },
     "execution_count": 38,
     "metadata": {},
     "output_type": "execute_result"
    }
   ],
   "source": [
    "df_2['Family Group'].value_counts(dropna = False)"
   ]
  },
  {
   "cell_type": "markdown",
   "id": "e5104480",
   "metadata": {},
   "source": [
    "## Step 5D. Make a profile based on hours of day"
   ]
  },
  {
   "cell_type": "code",
   "execution_count": 68,
   "id": "7585072a",
   "metadata": {},
   "outputs": [
    {
     "data": {
      "text/plain": [
       "10    2649744\n",
       "11    2614880\n",
       "14    2567903\n",
       "13    2539276\n",
       "15    2535966\n",
       "12    2495795\n",
       "16    2413681\n",
       "9     2363611\n",
       "17    1982345\n",
       "8     1659110\n",
       "18    1551184\n",
       "19    1193878\n",
       "20     930909\n",
       "7      863213\n",
       "21     763111\n",
       "22     607060\n",
       "23     384554\n",
       "6      281013\n",
       "0      208042\n",
       "1      109621\n",
       "5       84418\n",
       "2       65691\n",
       "4       50763\n",
       "3       48796\n",
       "Name: order_hour_of_day, dtype: int64"
      ]
     },
     "execution_count": 68,
     "metadata": {},
     "output_type": "execute_result"
    }
   ],
   "source": [
    "# first check the counts\n",
    "\n",
    "df_2['order_hour_of_day'].value_counts()"
   ]
  },
  {
   "cell_type": "markdown",
   "id": "35cf8fe4",
   "metadata": {},
   "source": [
    "### 5E. For this I will establish four categories:\n",
    "\n",
    "morning orders (5am - 11am)   \n",
    "day orders (12pm-5pm)  \n",
    "night orders (6pm-10pm)  \n",
    "midnight orders (11pm-4am)  "
   ]
  },
  {
   "cell_type": "code",
   "execution_count": 93,
   "id": "b734a66e",
   "metadata": {},
   "outputs": [],
   "source": [
    "# I will establish lists to check the ranges of hours\n",
    "\n",
    "morning =[*range(5,12)]\n",
    "day = [*range(12, 18)]\n",
    "night= [*range(18, 23)]\n",
    "midnight = [23,0,1,2,3,4]"
   ]
  },
  {
   "cell_type": "code",
   "execution_count": 202,
   "id": "46e53d44",
   "metadata": {},
   "outputs": [],
   "source": [
    "# morning_orders \n",
    "\n",
    "df_2.loc[df_2['order_hour_of_day'].isin(morning)  , 'Hour Group'] = 'Morning Orders'"
   ]
  },
  {
   "cell_type": "code",
   "execution_count": 203,
   "id": "45c5df0c",
   "metadata": {},
   "outputs": [],
   "source": [
    "# day_orders \n",
    "\n",
    "df_2.loc[df_2['order_hour_of_day'].isin(day)  , 'Hour Group'] = 'Day Orders'"
   ]
  },
  {
   "cell_type": "code",
   "execution_count": 204,
   "id": "a75e81f8",
   "metadata": {},
   "outputs": [],
   "source": [
    "# night_orders \n",
    "\n",
    "df_2.loc[df_2['order_hour_of_day'].isin(night)  , 'Hour Group'] = 'Night Orders'"
   ]
  },
  {
   "cell_type": "code",
   "execution_count": 205,
   "id": "4820ecbc",
   "metadata": {},
   "outputs": [],
   "source": [
    "# midnight_orders \n",
    "\n",
    "df_2.loc[df_2['order_hour_of_day'].isin(midnight)  , 'Hour Group'] = 'Midnight Orders'"
   ]
  },
  {
   "cell_type": "code",
   "execution_count": 100,
   "id": "28dcf854",
   "metadata": {},
   "outputs": [
    {
     "data": {
      "text/plain": [
       "Day_orders         14534966\n",
       "Morning_orders     10515989\n",
       "Night_orders        5046142\n",
       "Midnight_orders      867467\n",
       "Name: Hour Group, dtype: int64"
      ]
     },
     "execution_count": 100,
     "metadata": {},
     "output_type": "execute_result"
    }
   ],
   "source": [
    "# Check value \n",
    "\n",
    "df_2['Hour Group'].value_counts(dropna= False)"
   ]
  },
  {
   "cell_type": "code",
   "execution_count": 235,
   "id": "29c4a47c",
   "metadata": {},
   "outputs": [],
   "source": [
    "# export the final dataframe\n",
    "\n",
    "df_2.to_pickle(os.path.join(path, 'Prepared_Data', 'final_e10_flags.pkl'))"
   ]
  },
  {
   "cell_type": "markdown",
   "id": "290121b6",
   "metadata": {},
   "source": [
    "# Step 6 Create an appropriate visualization to show the distribution of profiles.\n",
    "\n",
    "a. Age Group   \n",
    "b. Income Group   \n",
    "c. Product Group   \n",
    "d. Family Group   \n",
    "e. Hour Group  "
   ]
  },
  {
   "cell_type": "markdown",
   "id": "153dd68d",
   "metadata": {},
   "source": [
    "## Step 6A Graph showing distribution of Age Group"
   ]
  },
  {
   "cell_type": "code",
   "execution_count": 37,
   "id": "38b3c63c",
   "metadata": {},
   "outputs": [],
   "source": [
    "# I will make some colors to be used for the plots\n",
    "\n",
    "clr1 = [0.2, 0.8, 0.2, 0.6]\n",
    "clr2 = [0.4, 0.9, 0.6, 0.6]\n",
    "clr3 = [0.6, 0.9, 0.9, 0.6]\n",
    "clr4 = [0.9, 0.9, 0.9, 0.6]"
   ]
  },
  {
   "cell_type": "code",
   "execution_count": 169,
   "id": "6132a768",
   "metadata": {},
   "outputs": [
    {
     "data": {
      "image/png": "[encoded data removed]",
      "text/plain": [
       "<Figure size 640x480 with 1 Axes>"
      ]
     },
     "metadata": {},
     "output_type": "display_data"
    }
   ],
   "source": [
    "Age_bar = df_2['Age Group'].value_counts().plot.bar(color = [clr1] )"
   ]
  },
  {
   "cell_type": "code",
   "execution_count": 210,
   "id": "ec6fe407",
   "metadata": {},
   "outputs": [],
   "source": [
    "# export\n",
    "\n",
    "Age_bar.figure.savefig(os.path.join(path2, 'age_group_distribution.png'))"
   ]
  },
  {
   "cell_type": "markdown",
   "id": "fd7cd3a7",
   "metadata": {},
   "source": [
    "## 6B Graph showing distribution of Income Group"
   ]
  },
  {
   "cell_type": "code",
   "execution_count": 179,
   "id": "29698825",
   "metadata": {
    "scrolled": true
   },
   "outputs": [
    {
     "data": {
      "image/png": "[encoded data removed]",
      "text/plain": [
       "<Figure size 640x480 with 1 Axes>"
      ]
     },
     "metadata": {},
     "output_type": "display_data"
    }
   ],
   "source": [
    "Income_bar = df_2['Income Group'].value_counts().plot.bar(color = [clr2] )"
   ]
  },
  {
   "cell_type": "code",
   "execution_count": 211,
   "id": "4bf448f7",
   "metadata": {},
   "outputs": [],
   "source": [
    "# export\n",
    "\n",
    "Income_bar.figure.savefig(os.path.join(path2, 'income_group_distribution.png'))"
   ]
  },
  {
   "cell_type": "markdown",
   "id": "49572191",
   "metadata": {},
   "source": [
    "## 6C Graph showing distribution of Product Group"
   ]
  },
  {
   "cell_type": "code",
   "execution_count": 196,
   "id": "e73f0753",
   "metadata": {},
   "outputs": [],
   "source": [
    "proportions = df_2['Product Group'].value_counts()"
   ]
  },
  {
   "cell_type": "code",
   "execution_count": 223,
   "id": "23c7953d",
   "metadata": {
    "scrolled": false
   },
   "outputs": [
    {
     "data": {
      "image/png": "[encoded data removed]",
      "text/plain": [
       "<Figure size 640x480 with 1 Axes>"
      ]
     },
     "metadata": {},
     "output_type": "display_data"
    }
   ],
   "source": [
    "Product_pie = plt.pie(proportions, labels = proportions.index, autopct='%1.1f%%', colors = [clr1, clr2, clr3, clr4])\n",
    "\n",
    "#export\n",
    "\n",
    "plt.savefig(os.path.join(path2, 'product_group_distribution.png'))"
   ]
  },
  {
   "cell_type": "markdown",
   "id": "d58d6b19",
   "metadata": {},
   "source": [
    "## 6D Graph showing distribution of Family Group"
   ]
  },
  {
   "cell_type": "code",
   "execution_count": 2,
   "id": "1037bffc",
   "metadata": {
    "scrolled": true
   },
   "outputs": [
    {
     "ename": "NameError",
     "evalue": "name 'df' is not defined",
     "output_type": "error",
     "traceback": [
      "\u001b[1;31m---------------------------------------------------------------------------\u001b[0m",
      "\u001b[1;31mNameError\u001b[0m                                 Traceback (most recent call last)",
      "Cell \u001b[1;32mIn[2], line 1\u001b[0m\n\u001b[1;32m----> 1\u001b[0m Family_bar \u001b[38;5;241m=\u001b[39m \u001b[43mdf\u001b[49m[\u001b[38;5;124m'\u001b[39m\u001b[38;5;124mFamily Group\u001b[39m\u001b[38;5;124m'\u001b[39m]\u001b[38;5;241m.\u001b[39mvalue_counts()\u001b[38;5;241m.\u001b[39mplot\u001b[38;5;241m.\u001b[39mbar(color \u001b[38;5;241m=\u001b[39m [clr1] )\n",
      "\u001b[1;31mNameError\u001b[0m: name 'df' is not defined"
     ]
    }
   ],
   "source": [
    "Family_bar = df_2['Family Group'].value_counts().plot.bar(color = [clr1] )"
   ]
  },
  {
   "cell_type": "code",
   "execution_count": 218,
   "id": "0bf44e6d",
   "metadata": {},
   "outputs": [],
   "source": [
    "# export\n",
    "\n",
    "Family_bar.figure.savefig(os.path.join(path2, 'family_group_distribution.png'))"
   ]
  },
  {
   "cell_type": "markdown",
   "id": "0142b0f2",
   "metadata": {},
   "source": [
    "## 6E Graph showing distribution of Hour of Day Group"
   ]
  },
  {
   "cell_type": "code",
   "execution_count": 207,
   "id": "568498a8",
   "metadata": {
    "scrolled": true
   },
   "outputs": [],
   "source": [
    "proportions2 = df_2['Hour Group'].value_counts()"
   ]
  },
  {
   "cell_type": "code",
   "execution_count": 224,
   "id": "71fb86e1",
   "metadata": {
    "scrolled": false
   },
   "outputs": [
    {
     "data": {
      "image/png": "[encoded data removed]",
      "text/plain": [
       "<Figure size 640x480 with 1 Axes>"
      ]
     },
     "metadata": {},
     "output_type": "display_data"
    }
   ],
   "source": [
    "Hour_pie = plt.pie(proportions2, labels = proportions2.index, autopct='%1.1f%%', colors = [clr1, clr2, clr3, clr4])\n",
    "\n",
    "#export\n",
    "\n",
    "plt.savefig(os.path.join(path2, 'hod_group_distribution.png'))"
   ]
  },
  {
   "cell_type": "code",
   "execution_count": 6,
   "id": "647b0a10",
   "metadata": {},
   "outputs": [],
   "source": [
    "# import the  final dataframe for the rest of the exercise NOTE it was accidentally named df at import and due to memory issues and extremely slow import\n",
    "#I am unable to change the name and reimport, in the future I will make sure to use consistent naming especially within a single notebook\n",
    "\n",
    "df = pd.read_pickle(os.path.join(path, 'Prepared_Data', 'final_e10_flags.pkl' ))"
   ]
  },
  {
   "cell_type": "markdown",
   "id": "34b38501",
   "metadata": {},
   "source": [
    "# Step 7.  Aggregate the max, mean, and min variables on a customer-profile level for usage frequency( order_freq, max_order)  and expenditure(average_order).\n",
    "\n",
    "a. Age Group   \n",
    "b. Income Group   \n",
    "c. Product Group   \n",
    "d. Family Group   \n",
    "e. Hour Group  "
   ]
  },
  {
   "cell_type": "code",
   "execution_count": 19,
   "id": "63098613",
   "metadata": {},
   "outputs": [],
   "source": [
    "# the average order column was made before the artificially high prices were excluded, so I will make a list to use\n",
    "\n",
    "average_order = [df.loc[df['average_order']<=100]]"
   ]
  },
  {
   "cell_type": "code",
   "execution_count": 27,
   "id": "59d68a85",
   "metadata": {},
   "outputs": [],
   "source": [
    "# first I will establish the aggregations I will be using max, mean, min for order frequency, max_order, and average_order\n",
    "\n",
    "aggregations = {\n",
    "    'days_since_prior_order': ['mean', 'max', 'min'],\n",
    "    'max_order': ['mean', 'max', 'min'],\n",
    "    'average_order': ['mean', 'median', 'min'],\n",
    "}\n",
    "\n",
    "#the max value for average order is excluded as the average_order column was made before the artificially high prices were excluded"
   ]
  },
  {
   "cell_type": "code",
   "execution_count": 28,
   "id": "c6b6e779",
   "metadata": {
    "scrolled": true
   },
   "outputs": [
    {
     "data": {
      "text/html": [
       "<div>\n",
       "<style scoped>\n",
       "    .dataframe tbody tr th:only-of-type {\n",
       "        vertical-align: middle;\n",
       "    }\n",
       "\n",
       "    .dataframe tbody tr th {\n",
       "        vertical-align: top;\n",
       "    }\n",
       "\n",
       "    .dataframe thead tr th {\n",
       "        text-align: left;\n",
       "    }\n",
       "\n",
       "    .dataframe thead tr:last-of-type th {\n",
       "        text-align: right;\n",
       "    }\n",
       "</style>\n",
       "<table border=\"1\" class=\"dataframe\">\n",
       "  <thead>\n",
       "    <tr>\n",
       "      <th></th>\n",
       "      <th colspan=\"3\" halign=\"left\">days_since_prior_order</th>\n",
       "      <th colspan=\"3\" halign=\"left\">max_order</th>\n",
       "      <th colspan=\"3\" halign=\"left\">average_order</th>\n",
       "    </tr>\n",
       "    <tr>\n",
       "      <th></th>\n",
       "      <th>mean</th>\n",
       "      <th>max</th>\n",
       "      <th>min</th>\n",
       "      <th>mean</th>\n",
       "      <th>max</th>\n",
       "      <th>min</th>\n",
       "      <th>mean</th>\n",
       "      <th>median</th>\n",
       "      <th>min</th>\n",
       "    </tr>\n",
       "    <tr>\n",
       "      <th>Age Group</th>\n",
       "      <th></th>\n",
       "      <th></th>\n",
       "      <th></th>\n",
       "      <th></th>\n",
       "      <th></th>\n",
       "      <th></th>\n",
       "      <th></th>\n",
       "      <th></th>\n",
       "      <th></th>\n",
       "    </tr>\n",
       "  </thead>\n",
       "  <tbody>\n",
       "    <tr>\n",
       "      <th>Adult</th>\n",
       "      <td>10</td>\n",
       "      <td>30</td>\n",
       "      <td>0</td>\n",
       "      <td>34</td>\n",
       "      <td>99</td>\n",
       "      <td>5</td>\n",
       "      <td>12</td>\n",
       "      <td>7</td>\n",
       "      <td>1</td>\n",
       "    </tr>\n",
       "    <tr>\n",
       "      <th>Middle Aged</th>\n",
       "      <td>10</td>\n",
       "      <td>30</td>\n",
       "      <td>0</td>\n",
       "      <td>34</td>\n",
       "      <td>99</td>\n",
       "      <td>5</td>\n",
       "      <td>11</td>\n",
       "      <td>7</td>\n",
       "      <td>1</td>\n",
       "    </tr>\n",
       "    <tr>\n",
       "      <th>Senior</th>\n",
       "      <td>10</td>\n",
       "      <td>30</td>\n",
       "      <td>0</td>\n",
       "      <td>34</td>\n",
       "      <td>99</td>\n",
       "      <td>5</td>\n",
       "      <td>11</td>\n",
       "      <td>7</td>\n",
       "      <td>1</td>\n",
       "    </tr>\n",
       "    <tr>\n",
       "      <th>Young Adult</th>\n",
       "      <td>10</td>\n",
       "      <td>30</td>\n",
       "      <td>0</td>\n",
       "      <td>34</td>\n",
       "      <td>99</td>\n",
       "      <td>5</td>\n",
       "      <td>12</td>\n",
       "      <td>7</td>\n",
       "      <td>1</td>\n",
       "    </tr>\n",
       "  </tbody>\n",
       "</table>\n",
       "</div>"
      ],
      "text/plain": [
       "            days_since_prior_order         max_order         average_order  \\\n",
       "                              mean max min      mean max min          mean   \n",
       "Age Group                                                                    \n",
       "Adult                           10  30   0        34  99   5            12   \n",
       "Middle Aged                     10  30   0        34  99   5            11   \n",
       "Senior                          10  30   0        34  99   5            11   \n",
       "Young Adult                     10  30   0        34  99   5            12   \n",
       "\n",
       "                        \n",
       "            median min  \n",
       "Age Group               \n",
       "Adult            7   1  \n",
       "Middle Aged      7   1  \n",
       "Senior           7   1  \n",
       "Young Adult      7   1  "
      ]
     },
     "execution_count": 28,
     "metadata": {},
     "output_type": "execute_result"
    }
   ],
   "source": [
    "# age group aggregation\n",
    "\n",
    "df.groupby('Age Group').agg(aggregations).astype(int)"
   ]
  },
  {
   "cell_type": "code",
   "execution_count": 30,
   "id": "f27df98b",
   "metadata": {
    "scrolled": true
   },
   "outputs": [
    {
     "data": {
      "text/html": [
       "<div>\n",
       "<style scoped>\n",
       "    .dataframe tbody tr th:only-of-type {\n",
       "        vertical-align: middle;\n",
       "    }\n",
       "\n",
       "    .dataframe tbody tr th {\n",
       "        vertical-align: top;\n",
       "    }\n",
       "\n",
       "    .dataframe thead tr th {\n",
       "        text-align: left;\n",
       "    }\n",
       "\n",
       "    .dataframe thead tr:last-of-type th {\n",
       "        text-align: right;\n",
       "    }\n",
       "</style>\n",
       "<table border=\"1\" class=\"dataframe\">\n",
       "  <thead>\n",
       "    <tr>\n",
       "      <th></th>\n",
       "      <th colspan=\"3\" halign=\"left\">days_since_prior_order</th>\n",
       "      <th colspan=\"3\" halign=\"left\">max_order</th>\n",
       "      <th colspan=\"3\" halign=\"left\">average_order</th>\n",
       "    </tr>\n",
       "    <tr>\n",
       "      <th></th>\n",
       "      <th>mean</th>\n",
       "      <th>max</th>\n",
       "      <th>min</th>\n",
       "      <th>mean</th>\n",
       "      <th>max</th>\n",
       "      <th>min</th>\n",
       "      <th>mean</th>\n",
       "      <th>median</th>\n",
       "      <th>min</th>\n",
       "    </tr>\n",
       "    <tr>\n",
       "      <th>Income Group</th>\n",
       "      <th></th>\n",
       "      <th></th>\n",
       "      <th></th>\n",
       "      <th></th>\n",
       "      <th></th>\n",
       "      <th></th>\n",
       "      <th></th>\n",
       "      <th></th>\n",
       "      <th></th>\n",
       "    </tr>\n",
       "  </thead>\n",
       "  <tbody>\n",
       "    <tr>\n",
       "      <th>High Income</th>\n",
       "      <td>10</td>\n",
       "      <td>30</td>\n",
       "      <td>0</td>\n",
       "      <td>34</td>\n",
       "      <td>99</td>\n",
       "      <td>5</td>\n",
       "      <td>16</td>\n",
       "      <td>7</td>\n",
       "      <td>7</td>\n",
       "    </tr>\n",
       "    <tr>\n",
       "      <th>Lower Income</th>\n",
       "      <td>11</td>\n",
       "      <td>30</td>\n",
       "      <td>0</td>\n",
       "      <td>33</td>\n",
       "      <td>99</td>\n",
       "      <td>5</td>\n",
       "      <td>7</td>\n",
       "      <td>6</td>\n",
       "      <td>1</td>\n",
       "    </tr>\n",
       "    <tr>\n",
       "      <th>Middle Income</th>\n",
       "      <td>10</td>\n",
       "      <td>30</td>\n",
       "      <td>0</td>\n",
       "      <td>34</td>\n",
       "      <td>99</td>\n",
       "      <td>5</td>\n",
       "      <td>8</td>\n",
       "      <td>7</td>\n",
       "      <td>7</td>\n",
       "    </tr>\n",
       "  </tbody>\n",
       "</table>\n",
       "</div>"
      ],
      "text/plain": [
       "              days_since_prior_order         max_order         average_order  \\\n",
       "                                mean max min      mean max min          mean   \n",
       "Income Group                                                                   \n",
       "High Income                       10  30   0        34  99   5            16   \n",
       "Lower Income                      11  30   0        33  99   5             7   \n",
       "Middle Income                     10  30   0        34  99   5             8   \n",
       "\n",
       "                          \n",
       "              median min  \n",
       "Income Group              \n",
       "High Income        7   7  \n",
       "Lower Income       6   1  \n",
       "Middle Income      7   7  "
      ]
     },
     "execution_count": 30,
     "metadata": {},
     "output_type": "execute_result"
    }
   ],
   "source": [
    "# income group aggregation\n",
    "\n",
    "df.groupby('Income Group').agg(aggregations).astype(int)"
   ]
  },
  {
   "cell_type": "code",
   "execution_count": 31,
   "id": "dedddc7d",
   "metadata": {},
   "outputs": [
    {
     "data": {
      "text/html": [
       "<div>\n",
       "<style scoped>\n",
       "    .dataframe tbody tr th:only-of-type {\n",
       "        vertical-align: middle;\n",
       "    }\n",
       "\n",
       "    .dataframe tbody tr th {\n",
       "        vertical-align: top;\n",
       "    }\n",
       "\n",
       "    .dataframe thead tr th {\n",
       "        text-align: left;\n",
       "    }\n",
       "\n",
       "    .dataframe thead tr:last-of-type th {\n",
       "        text-align: right;\n",
       "    }\n",
       "</style>\n",
       "<table border=\"1\" class=\"dataframe\">\n",
       "  <thead>\n",
       "    <tr>\n",
       "      <th></th>\n",
       "      <th colspan=\"3\" halign=\"left\">days_since_prior_order</th>\n",
       "      <th colspan=\"3\" halign=\"left\">max_order</th>\n",
       "      <th colspan=\"3\" halign=\"left\">average_order</th>\n",
       "    </tr>\n",
       "    <tr>\n",
       "      <th></th>\n",
       "      <th>mean</th>\n",
       "      <th>max</th>\n",
       "      <th>min</th>\n",
       "      <th>mean</th>\n",
       "      <th>max</th>\n",
       "      <th>min</th>\n",
       "      <th>mean</th>\n",
       "      <th>median</th>\n",
       "      <th>min</th>\n",
       "    </tr>\n",
       "    <tr>\n",
       "      <th>Product Group</th>\n",
       "      <th></th>\n",
       "      <th></th>\n",
       "      <th></th>\n",
       "      <th></th>\n",
       "      <th></th>\n",
       "      <th></th>\n",
       "      <th></th>\n",
       "      <th></th>\n",
       "      <th></th>\n",
       "    </tr>\n",
       "  </thead>\n",
       "  <tbody>\n",
       "    <tr>\n",
       "      <th>Every Day Product</th>\n",
       "      <td>11</td>\n",
       "      <td>30</td>\n",
       "      <td>0</td>\n",
       "      <td>31</td>\n",
       "      <td>99</td>\n",
       "      <td>5</td>\n",
       "      <td>14</td>\n",
       "      <td>7</td>\n",
       "      <td>1</td>\n",
       "    </tr>\n",
       "    <tr>\n",
       "      <th>Food Product</th>\n",
       "      <td>10</td>\n",
       "      <td>30</td>\n",
       "      <td>0</td>\n",
       "      <td>34</td>\n",
       "      <td>99</td>\n",
       "      <td>5</td>\n",
       "      <td>11</td>\n",
       "      <td>7</td>\n",
       "      <td>1</td>\n",
       "    </tr>\n",
       "    <tr>\n",
       "      <th>Other</th>\n",
       "      <td>10</td>\n",
       "      <td>30</td>\n",
       "      <td>0</td>\n",
       "      <td>31</td>\n",
       "      <td>99</td>\n",
       "      <td>5</td>\n",
       "      <td>12</td>\n",
       "      <td>7</td>\n",
       "      <td>1</td>\n",
       "    </tr>\n",
       "    <tr>\n",
       "      <th>Specialized Product</th>\n",
       "      <td>10</td>\n",
       "      <td>30</td>\n",
       "      <td>0</td>\n",
       "      <td>34</td>\n",
       "      <td>99</td>\n",
       "      <td>5</td>\n",
       "      <td>12</td>\n",
       "      <td>7</td>\n",
       "      <td>1</td>\n",
       "    </tr>\n",
       "  </tbody>\n",
       "</table>\n",
       "</div>"
      ],
      "text/plain": [
       "                    days_since_prior_order         max_order          \\\n",
       "                                      mean max min      mean max min   \n",
       "Product Group                                                          \n",
       "Every Day Product                       11  30   0        31  99   5   \n",
       "Food Product                            10  30   0        34  99   5   \n",
       "Other                                   10  30   0        31  99   5   \n",
       "Specialized Product                     10  30   0        34  99   5   \n",
       "\n",
       "                    average_order             \n",
       "                             mean median min  \n",
       "Product Group                                 \n",
       "Every Day Product              14      7   1  \n",
       "Food Product                   11      7   1  \n",
       "Other                          12      7   1  \n",
       "Specialized Product            12      7   1  "
      ]
     },
     "execution_count": 31,
     "metadata": {},
     "output_type": "execute_result"
    }
   ],
   "source": [
    "# Product group aggregation\n",
    "\n",
    "df.groupby('Product Group').agg(aggregations).astype(int)"
   ]
  },
  {
   "cell_type": "code",
   "execution_count": 32,
   "id": "e0c0b0fb",
   "metadata": {},
   "outputs": [
    {
     "data": {
      "text/html": [
       "<div>\n",
       "<style scoped>\n",
       "    .dataframe tbody tr th:only-of-type {\n",
       "        vertical-align: middle;\n",
       "    }\n",
       "\n",
       "    .dataframe tbody tr th {\n",
       "        vertical-align: top;\n",
       "    }\n",
       "\n",
       "    .dataframe thead tr th {\n",
       "        text-align: left;\n",
       "    }\n",
       "\n",
       "    .dataframe thead tr:last-of-type th {\n",
       "        text-align: right;\n",
       "    }\n",
       "</style>\n",
       "<table border=\"1\" class=\"dataframe\">\n",
       "  <thead>\n",
       "    <tr>\n",
       "      <th></th>\n",
       "      <th colspan=\"3\" halign=\"left\">days_since_prior_order</th>\n",
       "      <th colspan=\"3\" halign=\"left\">max_order</th>\n",
       "      <th colspan=\"3\" halign=\"left\">average_order</th>\n",
       "    </tr>\n",
       "    <tr>\n",
       "      <th></th>\n",
       "      <th>mean</th>\n",
       "      <th>max</th>\n",
       "      <th>min</th>\n",
       "      <th>mean</th>\n",
       "      <th>max</th>\n",
       "      <th>min</th>\n",
       "      <th>mean</th>\n",
       "      <th>median</th>\n",
       "      <th>min</th>\n",
       "    </tr>\n",
       "    <tr>\n",
       "      <th>Family Group</th>\n",
       "      <th></th>\n",
       "      <th></th>\n",
       "      <th></th>\n",
       "      <th></th>\n",
       "      <th></th>\n",
       "      <th></th>\n",
       "      <th></th>\n",
       "      <th></th>\n",
       "      <th></th>\n",
       "    </tr>\n",
       "  </thead>\n",
       "  <tbody>\n",
       "    <tr>\n",
       "      <th>Big Family</th>\n",
       "      <td>10</td>\n",
       "      <td>30</td>\n",
       "      <td>0</td>\n",
       "      <td>34</td>\n",
       "      <td>99</td>\n",
       "      <td>5</td>\n",
       "      <td>11</td>\n",
       "      <td>7</td>\n",
       "      <td>1</td>\n",
       "    </tr>\n",
       "    <tr>\n",
       "      <th>Family</th>\n",
       "      <td>10</td>\n",
       "      <td>30</td>\n",
       "      <td>0</td>\n",
       "      <td>34</td>\n",
       "      <td>99</td>\n",
       "      <td>5</td>\n",
       "      <td>11</td>\n",
       "      <td>7</td>\n",
       "      <td>1</td>\n",
       "    </tr>\n",
       "    <tr>\n",
       "      <th>Single Adult</th>\n",
       "      <td>10</td>\n",
       "      <td>30</td>\n",
       "      <td>0</td>\n",
       "      <td>34</td>\n",
       "      <td>99</td>\n",
       "      <td>5</td>\n",
       "      <td>12</td>\n",
       "      <td>7</td>\n",
       "      <td>1</td>\n",
       "    </tr>\n",
       "  </tbody>\n",
       "</table>\n",
       "</div>"
      ],
      "text/plain": [
       "             days_since_prior_order         max_order         average_order  \\\n",
       "                               mean max min      mean max min          mean   \n",
       "Family Group                                                                  \n",
       "Big Family                       10  30   0        34  99   5            11   \n",
       "Family                           10  30   0        34  99   5            11   \n",
       "Single Adult                     10  30   0        34  99   5            12   \n",
       "\n",
       "                         \n",
       "             median min  \n",
       "Family Group             \n",
       "Big Family        7   1  \n",
       "Family            7   1  \n",
       "Single Adult      7   1  "
      ]
     },
     "execution_count": 32,
     "metadata": {},
     "output_type": "execute_result"
    }
   ],
   "source": [
    "# Family group aggregation\n",
    "\n",
    "df.groupby('Family Group').agg(aggregations).astype(int)"
   ]
  },
  {
   "cell_type": "code",
   "execution_count": 33,
   "id": "e4a0711f",
   "metadata": {},
   "outputs": [
    {
     "data": {
      "text/html": [
       "<div>\n",
       "<style scoped>\n",
       "    .dataframe tbody tr th:only-of-type {\n",
       "        vertical-align: middle;\n",
       "    }\n",
       "\n",
       "    .dataframe tbody tr th {\n",
       "        vertical-align: top;\n",
       "    }\n",
       "\n",
       "    .dataframe thead tr th {\n",
       "        text-align: left;\n",
       "    }\n",
       "\n",
       "    .dataframe thead tr:last-of-type th {\n",
       "        text-align: right;\n",
       "    }\n",
       "</style>\n",
       "<table border=\"1\" class=\"dataframe\">\n",
       "  <thead>\n",
       "    <tr>\n",
       "      <th></th>\n",
       "      <th colspan=\"3\" halign=\"left\">days_since_prior_order</th>\n",
       "      <th colspan=\"3\" halign=\"left\">max_order</th>\n",
       "      <th colspan=\"3\" halign=\"left\">average_order</th>\n",
       "    </tr>\n",
       "    <tr>\n",
       "      <th></th>\n",
       "      <th>mean</th>\n",
       "      <th>max</th>\n",
       "      <th>min</th>\n",
       "      <th>mean</th>\n",
       "      <th>max</th>\n",
       "      <th>min</th>\n",
       "      <th>mean</th>\n",
       "      <th>median</th>\n",
       "      <th>min</th>\n",
       "    </tr>\n",
       "    <tr>\n",
       "      <th>Hour Group</th>\n",
       "      <th></th>\n",
       "      <th></th>\n",
       "      <th></th>\n",
       "      <th></th>\n",
       "      <th></th>\n",
       "      <th></th>\n",
       "      <th></th>\n",
       "      <th></th>\n",
       "      <th></th>\n",
       "    </tr>\n",
       "  </thead>\n",
       "  <tbody>\n",
       "    <tr>\n",
       "      <th>Day Orders</th>\n",
       "      <td>10</td>\n",
       "      <td>30</td>\n",
       "      <td>0</td>\n",
       "      <td>33</td>\n",
       "      <td>99</td>\n",
       "      <td>5</td>\n",
       "      <td>12</td>\n",
       "      <td>7</td>\n",
       "      <td>1</td>\n",
       "    </tr>\n",
       "    <tr>\n",
       "      <th>Midnight Orders</th>\n",
       "      <td>11</td>\n",
       "      <td>30</td>\n",
       "      <td>0</td>\n",
       "      <td>32</td>\n",
       "      <td>99</td>\n",
       "      <td>5</td>\n",
       "      <td>11</td>\n",
       "      <td>7</td>\n",
       "      <td>1</td>\n",
       "    </tr>\n",
       "    <tr>\n",
       "      <th>Morning Orders</th>\n",
       "      <td>10</td>\n",
       "      <td>30</td>\n",
       "      <td>0</td>\n",
       "      <td>36</td>\n",
       "      <td>99</td>\n",
       "      <td>5</td>\n",
       "      <td>11</td>\n",
       "      <td>7</td>\n",
       "      <td>1</td>\n",
       "    </tr>\n",
       "    <tr>\n",
       "      <th>Night Orders</th>\n",
       "      <td>10</td>\n",
       "      <td>30</td>\n",
       "      <td>0</td>\n",
       "      <td>33</td>\n",
       "      <td>99</td>\n",
       "      <td>5</td>\n",
       "      <td>11</td>\n",
       "      <td>7</td>\n",
       "      <td>1</td>\n",
       "    </tr>\n",
       "  </tbody>\n",
       "</table>\n",
       "</div>"
      ],
      "text/plain": [
       "                days_since_prior_order         max_order          \\\n",
       "                                  mean max min      mean max min   \n",
       "Hour Group                                                         \n",
       "Day Orders                          10  30   0        33  99   5   \n",
       "Midnight Orders                     11  30   0        32  99   5   \n",
       "Morning Orders                      10  30   0        36  99   5   \n",
       "Night Orders                        10  30   0        33  99   5   \n",
       "\n",
       "                average_order             \n",
       "                         mean median min  \n",
       "Hour Group                                \n",
       "Day Orders                 12      7   1  \n",
       "Midnight Orders            11      7   1  \n",
       "Morning Orders             11      7   1  \n",
       "Night Orders               11      7   1  "
      ]
     },
     "execution_count": 33,
     "metadata": {},
     "output_type": "execute_result"
    }
   ],
   "source": [
    "# Hour group aggregation\n",
    "\n",
    "df.groupby('Hour Group').agg(aggregations).astype(int)"
   ]
  },
  {
   "cell_type": "markdown",
   "id": "10550365",
   "metadata": {},
   "source": [
    "# Step  8/9.  Compare your customer profiles with regions and departments. Can you identify a link between them? Customers may demonstrate different behaviors across regions, which could make this information important. Produce suitable charts to illustrate your results and export them in your project folder.\n",
    "\n",
    "\n",
    "\n",
    "a. Age Group   \n",
    "b. Income Group   \n",
    "c. Product Group   \n",
    "d. Family Group   \n",
    "e. Hour Group  "
   ]
  },
  {
   "cell_type": "markdown",
   "id": "7a8de4fa",
   "metadata": {},
   "source": [
    "## 8A. Use a crosstab to compare age by region"
   ]
  },
  {
   "cell_type": "code",
   "execution_count": 35,
   "id": "13cc7d03",
   "metadata": {},
   "outputs": [],
   "source": [
    "# age crosstab\n",
    "\n",
    "age_byregion = pd.crosstab(df['Region'], df['Age Group'], dropna = False)"
   ]
  },
  {
   "cell_type": "code",
   "execution_count": 50,
   "id": "8880742a",
   "metadata": {
    "scrolled": true
   },
   "outputs": [
    {
     "data": {
      "image/png": "[encoded data removed]",
      "text/plain": [
       "<Figure size 640x480 with 1 Axes>"
      ]
     },
     "metadata": {},
     "output_type": "display_data"
    }
   ],
   "source": [
    "# bar graph for age by region\n",
    "bar_age_byregion = age_byregion.plot.bar(color = [clr1, clr3, clr2, clr4] )"
   ]
  },
  {
   "cell_type": "code",
   "execution_count": 51,
   "id": "30aa8991",
   "metadata": {},
   "outputs": [],
   "source": [
    "# export\n",
    "\n",
    "bar_age_byregion.figure.savefig(os.path.join(path2, 'age_byregion_bar.png'))"
   ]
  },
  {
   "cell_type": "markdown",
   "id": "4dbab66e",
   "metadata": {},
   "source": [
    "## 8B. Use a crosstab to compare Income by region"
   ]
  },
  {
   "cell_type": "code",
   "execution_count": 48,
   "id": "18c22f4d",
   "metadata": {},
   "outputs": [],
   "source": [
    "# Income crosstab\n",
    "\n",
    "income_byregion = pd.crosstab(df['Region'], df['Income Group'], dropna = False)"
   ]
  },
  {
   "cell_type": "code",
   "execution_count": 53,
   "id": "24cdb08b",
   "metadata": {
    "scrolled": true
   },
   "outputs": [
    {
     "data": {
      "image/png": "[encoded data removed]",
      "text/plain": [
       "<Figure size 640x480 with 1 Axes>"
      ]
     },
     "metadata": {},
     "output_type": "display_data"
    }
   ],
   "source": [
    "# chart income by region\n",
    "\n",
    "bar_income_byregion = income_byregion.plot.bar(color = [clr1, clr3, clr2])"
   ]
  },
  {
   "cell_type": "code",
   "execution_count": 54,
   "id": "af576d70",
   "metadata": {},
   "outputs": [],
   "source": [
    "# export\n",
    "\n",
    "bar_income_byregion.figure.savefig(os.path.join(path2, 'income_byregion_bar.png'))"
   ]
  },
  {
   "cell_type": "markdown",
   "id": "7906740c",
   "metadata": {},
   "source": [
    "## 8C. Use a crosstab to compare product by region"
   ]
  },
  {
   "cell_type": "code",
   "execution_count": 55,
   "id": "1f3e1b7e",
   "metadata": {},
   "outputs": [],
   "source": [
    "# Product crosstab\n",
    "\n",
    "product_byregion = pd.crosstab(df['Region'], df['Product Group'], dropna = False)"
   ]
  },
  {
   "cell_type": "code",
   "execution_count": 58,
   "id": "09deaa34",
   "metadata": {
    "scrolled": true
   },
   "outputs": [
    {
     "data": {
      "image/png": "[encoded data removed]",
      "text/plain": [
       "<Figure size 640x480 with 1 Axes>"
      ]
     },
     "metadata": {},
     "output_type": "display_data"
    }
   ],
   "source": [
    "# chart product by region\n",
    "\n",
    "bar_product_byregion = product_byregion.plot.bar(color = [clr1, clr3, clr2, clr4])"
   ]
  },
  {
   "cell_type": "code",
   "execution_count": 59,
   "id": "b32fb225",
   "metadata": {},
   "outputs": [],
   "source": [
    "# export\n",
    "\n",
    "bar_product_byregion.figure.savefig(os.path.join(path2, 'product_byregion_bar.png'))"
   ]
  },
  {
   "cell_type": "markdown",
   "id": "f21a4e12",
   "metadata": {},
   "source": [
    "## 8D. Use a crosstab to compare family by region"
   ]
  },
  {
   "cell_type": "code",
   "execution_count": 61,
   "id": "1383b02a",
   "metadata": {},
   "outputs": [],
   "source": [
    "# Family crosstab\n",
    "\n",
    "family_byregion = pd.crosstab(df['Region'], df['Family Group'], dropna = False)"
   ]
  },
  {
   "cell_type": "code",
   "execution_count": 63,
   "id": "f9e33b09",
   "metadata": {
    "scrolled": true
   },
   "outputs": [
    {
     "data": {
      "image/png": "[encoded data removed]",
      "text/plain": [
       "<Figure size 640x480 with 1 Axes>"
      ]
     },
     "metadata": {},
     "output_type": "display_data"
    }
   ],
   "source": [
    "# chart family by region\n",
    "\n",
    "bar_family_byregion = family_byregion.plot.bar(color = [clr1, clr3, clr2])"
   ]
  },
  {
   "cell_type": "code",
   "execution_count": 64,
   "id": "336ac25c",
   "metadata": {},
   "outputs": [],
   "source": [
    "# export\n",
    "\n",
    "bar_family_byregion.figure.savefig(os.path.join(path2, 'family_byregion_bar.png'))"
   ]
  },
  {
   "cell_type": "markdown",
   "id": "20ff5a21",
   "metadata": {},
   "source": [
    "## 8E. Use a crosstab to compare hour of day by region"
   ]
  },
  {
   "cell_type": "code",
   "execution_count": 66,
   "id": "74e8fe49",
   "metadata": {},
   "outputs": [],
   "source": [
    "# hourofday crosstab\n",
    "\n",
    "hourofday_byregion = pd.crosstab(df['Region'], df['Hour Group'], dropna = False)"
   ]
  },
  {
   "cell_type": "code",
   "execution_count": 68,
   "id": "6a13741a",
   "metadata": {
    "scrolled": true
   },
   "outputs": [
    {
     "data": {
      "image/png": "[encoded data removed]",
      "text/plain": [
       "<Figure size 640x480 with 1 Axes>"
      ]
     },
     "metadata": {},
     "output_type": "display_data"
    }
   ],
   "source": [
    "# chart hour of day by region\n",
    "\n",
    "bar_hod_byregion = hourofday_byregion.plot.bar(color = [clr1, clr3, clr2, clr4])"
   ]
  },
  {
   "cell_type": "code",
   "execution_count": 69,
   "id": "1b603d0f",
   "metadata": {},
   "outputs": [],
   "source": [
    "# export\n",
    "\n",
    "bar_hod_byregion.figure.savefig(os.path.join(path2, 'hod_byregion_bar.png'))"
   ]
  },
  {
   "cell_type": "markdown",
   "id": "4e36475a",
   "metadata": {},
   "source": [
    "## 10. Tidy up your script, export your final data set (exported above), and save your notebook."
   ]
  }
 ],
 "metadata": {
  "kernelspec": {
   "display_name": "Python 3 (ipykernel)",
   "language": "python",
   "name": "python3"
  },
  "language_info": {
   "codemirror_mode": {
    "name": "ipython",
    "version": 3
   },
   "file_extension": ".py",
   "mimetype": "text/x-python",
   "name": "python",
   "nbconvert_exporter": "python",
   "pygments_lexer": "ipython3",
   "version": "3.10.9"
  }
 },
 "nbformat": 4,
 "nbformat_minor": 5
}
